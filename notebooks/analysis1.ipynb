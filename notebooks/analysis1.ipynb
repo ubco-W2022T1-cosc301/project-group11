{
 "cells": [
  {
   "cell_type": "markdown",
   "id": "d2a789df",
   "metadata": {},
   "source": [
    "# Luca deVerteuil\n"
   ]
  },
  {
   "cell_type": "markdown",
   "id": "5af7ae3c",
   "metadata": {},
   "source": [
    "# Milestone 2"
   ]
  },
  {
   "cell_type": "code",
   "execution_count": 1,
   "id": "093ae45f",
   "metadata": {},
   "outputs": [
    {
     "data": {
      "text/html": [
       "<div>\n",
       "<style scoped>\n",
       "    .dataframe tbody tr th:only-of-type {\n",
       "        vertical-align: middle;\n",
       "    }\n",
       "\n",
       "    .dataframe tbody tr th {\n",
       "        vertical-align: top;\n",
       "    }\n",
       "\n",
       "    .dataframe thead th {\n",
       "        text-align: right;\n",
       "    }\n",
       "</style>\n",
       "<table border=\"1\" class=\"dataframe\">\n",
       "  <thead>\n",
       "    <tr style=\"text-align: right;\">\n",
       "      <th></th>\n",
       "      <th>TYPE</th>\n",
       "      <th>YEAR</th>\n",
       "      <th>MONTH</th>\n",
       "      <th>DAY</th>\n",
       "      <th>HOUR</th>\n",
       "      <th>MINUTE</th>\n",
       "      <th>HUNDRED_BLOCK</th>\n",
       "      <th>NEIGHBOURHOOD</th>\n",
       "      <th>X</th>\n",
       "      <th>Y</th>\n",
       "    </tr>\n",
       "  </thead>\n",
       "  <tbody>\n",
       "    <tr>\n",
       "      <th>0</th>\n",
       "      <td>Theft from Vehicle</td>\n",
       "      <td>2006</td>\n",
       "      <td>3</td>\n",
       "      <td>4</td>\n",
       "      <td>20</td>\n",
       "      <td>30</td>\n",
       "      <td>DAVIE ST / HOWE ST</td>\n",
       "      <td>Central Business District</td>\n",
       "      <td>490748.5904</td>\n",
       "      <td>5.458346e+06</td>\n",
       "    </tr>\n",
       "    <tr>\n",
       "      <th>1</th>\n",
       "      <td>Theft from Vehicle</td>\n",
       "      <td>2006</td>\n",
       "      <td>3</td>\n",
       "      <td>5</td>\n",
       "      <td>11</td>\n",
       "      <td>30</td>\n",
       "      <td>DAVIE ST / HOWE ST</td>\n",
       "      <td>Central Business District</td>\n",
       "      <td>490748.5904</td>\n",
       "      <td>5.458346e+06</td>\n",
       "    </tr>\n",
       "    <tr>\n",
       "      <th>2</th>\n",
       "      <td>Theft from Vehicle</td>\n",
       "      <td>2006</td>\n",
       "      <td>4</td>\n",
       "      <td>16</td>\n",
       "      <td>0</td>\n",
       "      <td>1</td>\n",
       "      <td>DAVIE ST / HOWE ST</td>\n",
       "      <td>Central Business District</td>\n",
       "      <td>490748.5904</td>\n",
       "      <td>5.458346e+06</td>\n",
       "    </tr>\n",
       "    <tr>\n",
       "      <th>3</th>\n",
       "      <td>Theft from Vehicle</td>\n",
       "      <td>2006</td>\n",
       "      <td>6</td>\n",
       "      <td>11</td>\n",
       "      <td>17</td>\n",
       "      <td>45</td>\n",
       "      <td>DAVIE ST / HOWE ST</td>\n",
       "      <td>Central Business District</td>\n",
       "      <td>490748.5904</td>\n",
       "      <td>5.458346e+06</td>\n",
       "    </tr>\n",
       "    <tr>\n",
       "      <th>4</th>\n",
       "      <td>Theft from Vehicle</td>\n",
       "      <td>2006</td>\n",
       "      <td>8</td>\n",
       "      <td>5</td>\n",
       "      <td>20</td>\n",
       "      <td>0</td>\n",
       "      <td>DAVIE ST / HOWE ST</td>\n",
       "      <td>Central Business District</td>\n",
       "      <td>490748.5904</td>\n",
       "      <td>5.458346e+06</td>\n",
       "    </tr>\n",
       "    <tr>\n",
       "      <th>...</th>\n",
       "      <td>...</td>\n",
       "      <td>...</td>\n",
       "      <td>...</td>\n",
       "      <td>...</td>\n",
       "      <td>...</td>\n",
       "      <td>...</td>\n",
       "      <td>...</td>\n",
       "      <td>...</td>\n",
       "      <td>...</td>\n",
       "      <td>...</td>\n",
       "    </tr>\n",
       "    <tr>\n",
       "      <th>793911</th>\n",
       "      <td>Theft from Vehicle</td>\n",
       "      <td>2005</td>\n",
       "      <td>3</td>\n",
       "      <td>9</td>\n",
       "      <td>21</td>\n",
       "      <td>30</td>\n",
       "      <td>DAVIE ST / HOWE ST</td>\n",
       "      <td>Central Business District</td>\n",
       "      <td>490748.5904</td>\n",
       "      <td>5.458346e+06</td>\n",
       "    </tr>\n",
       "    <tr>\n",
       "      <th>793912</th>\n",
       "      <td>Theft from Vehicle</td>\n",
       "      <td>2005</td>\n",
       "      <td>6</td>\n",
       "      <td>5</td>\n",
       "      <td>23</td>\n",
       "      <td>0</td>\n",
       "      <td>DAVIE ST / HOWE ST</td>\n",
       "      <td>Central Business District</td>\n",
       "      <td>490748.5904</td>\n",
       "      <td>5.458346e+06</td>\n",
       "    </tr>\n",
       "    <tr>\n",
       "      <th>793913</th>\n",
       "      <td>Theft from Vehicle</td>\n",
       "      <td>2005</td>\n",
       "      <td>8</td>\n",
       "      <td>1</td>\n",
       "      <td>22</td>\n",
       "      <td>0</td>\n",
       "      <td>DAVIE ST / HOWE ST</td>\n",
       "      <td>Central Business District</td>\n",
       "      <td>490748.5904</td>\n",
       "      <td>5.458346e+06</td>\n",
       "    </tr>\n",
       "    <tr>\n",
       "      <th>793914</th>\n",
       "      <td>Theft from Vehicle</td>\n",
       "      <td>2005</td>\n",
       "      <td>12</td>\n",
       "      <td>14</td>\n",
       "      <td>0</td>\n",
       "      <td>0</td>\n",
       "      <td>DAVIE ST / HOWE ST</td>\n",
       "      <td>Central Business District</td>\n",
       "      <td>490748.5904</td>\n",
       "      <td>5.458346e+06</td>\n",
       "    </tr>\n",
       "    <tr>\n",
       "      <th>793915</th>\n",
       "      <td>Theft from Vehicle</td>\n",
       "      <td>2005</td>\n",
       "      <td>12</td>\n",
       "      <td>26</td>\n",
       "      <td>22</td>\n",
       "      <td>0</td>\n",
       "      <td>DAVIE ST / HOWE ST</td>\n",
       "      <td>Central Business District</td>\n",
       "      <td>490748.5904</td>\n",
       "      <td>5.458346e+06</td>\n",
       "    </tr>\n",
       "  </tbody>\n",
       "</table>\n",
       "<p>793916 rows × 10 columns</p>\n",
       "</div>"
      ],
      "text/plain": [
       "                      TYPE  YEAR  MONTH  DAY  HOUR  MINUTE  \\\n",
       "0       Theft from Vehicle  2006      3    4    20      30   \n",
       "1       Theft from Vehicle  2006      3    5    11      30   \n",
       "2       Theft from Vehicle  2006      4   16     0       1   \n",
       "3       Theft from Vehicle  2006      6   11    17      45   \n",
       "4       Theft from Vehicle  2006      8    5    20       0   \n",
       "...                    ...   ...    ...  ...   ...     ...   \n",
       "793911  Theft from Vehicle  2005      3    9    21      30   \n",
       "793912  Theft from Vehicle  2005      6    5    23       0   \n",
       "793913  Theft from Vehicle  2005      8    1    22       0   \n",
       "793914  Theft from Vehicle  2005     12   14     0       0   \n",
       "793915  Theft from Vehicle  2005     12   26    22       0   \n",
       "\n",
       "             HUNDRED_BLOCK              NEIGHBOURHOOD            X  \\\n",
       "0       DAVIE ST / HOWE ST  Central Business District  490748.5904   \n",
       "1       DAVIE ST / HOWE ST  Central Business District  490748.5904   \n",
       "2       DAVIE ST / HOWE ST  Central Business District  490748.5904   \n",
       "3       DAVIE ST / HOWE ST  Central Business District  490748.5904   \n",
       "4       DAVIE ST / HOWE ST  Central Business District  490748.5904   \n",
       "...                    ...                        ...          ...   \n",
       "793911  DAVIE ST / HOWE ST  Central Business District  490748.5904   \n",
       "793912  DAVIE ST / HOWE ST  Central Business District  490748.5904   \n",
       "793913  DAVIE ST / HOWE ST  Central Business District  490748.5904   \n",
       "793914  DAVIE ST / HOWE ST  Central Business District  490748.5904   \n",
       "793915  DAVIE ST / HOWE ST  Central Business District  490748.5904   \n",
       "\n",
       "                   Y  \n",
       "0       5.458346e+06  \n",
       "1       5.458346e+06  \n",
       "2       5.458346e+06  \n",
       "3       5.458346e+06  \n",
       "4       5.458346e+06  \n",
       "...              ...  \n",
       "793911  5.458346e+06  \n",
       "793912  5.458346e+06  \n",
       "793913  5.458346e+06  \n",
       "793914  5.458346e+06  \n",
       "793915  5.458346e+06  \n",
       "\n",
       "[793916 rows x 10 columns]"
      ]
     },
     "execution_count": 1,
     "metadata": {},
     "output_type": "execute_result"
    }
   ],
   "source": [
    "import pandas as pd\n",
    "file = '../data/raw/crimedata_csv_all_years.csv'\n",
    "vancouverCrime = pd.read_csv(file)\n",
    "vancouverCrime"
   ]
  },
  {
   "cell_type": "markdown",
   "id": "861514d6",
   "metadata": {},
   "source": [
    "# Milestone 3: \n",
    "## EDA\n"
   ]
  },
  {
   "cell_type": "markdown",
   "id": "9b102179",
   "metadata": {},
   "source": [
    "## About Me And My Topic\n",
    "This data set is really interesting because I am a huge crime drama nerd.With this analytical project I hope to be able to find what time of the year is worse with crime. I have always heard that during the Holidays there is more crime. So with my study I want to find out if during the holiday season more crime is commited. I believe that more crime will be commited during the season because people will be drunk and intoxicated as well as people are away on vaction which will make those houses easy targets for robbery "
   ]
  },
  {
   "cell_type": "markdown",
   "id": "855f3ac9",
   "metadata": {},
   "source": [
    "### Data Frame Info \n",
    "<p> This data table that is shown right now is to get a clear view of all the columns in the table and their Data type. <br> \n",
    "The data columns that we will be focusing on are:  </p>\n",
    "\n",
    "1. TYPE : which is type of crime that was commited \n",
    "1. MONTH: Which is what month the crime was reported on \n",
    "1. DAY : Which is what day the crime was reported on \n",
    "\n"
   ]
  },
  {
   "cell_type": "code",
   "execution_count": 6,
   "id": "71ba2e50",
   "metadata": {},
   "outputs": [
    {
     "name": "stdout",
     "output_type": "stream",
     "text": [
      "<class 'pandas.core.frame.DataFrame'>\n",
      "RangeIndex: 793916 entries, 0 to 793915\n",
      "Data columns (total 10 columns):\n",
      " #   Column         Non-Null Count   Dtype  \n",
      "---  ------         --------------   -----  \n",
      " 0   TYPE           793916 non-null  object \n",
      " 1   YEAR           793916 non-null  int64  \n",
      " 2   MONTH          793916 non-null  int64  \n",
      " 3   DAY            793916 non-null  int64  \n",
      " 4   HOUR           793916 non-null  int64  \n",
      " 5   MINUTE         793916 non-null  int64  \n",
      " 6   HUNDRED_BLOCK  793904 non-null  object \n",
      " 7   NEIGHBOURHOOD  793783 non-null  object \n",
      " 8   X              793843 non-null  float64\n",
      " 9   Y              793843 non-null  float64\n",
      "dtypes: float64(2), int64(5), object(3)\n",
      "memory usage: 60.6+ MB\n"
     ]
    },
    {
     "data": {
      "text/plain": [
       "None"
      ]
     },
     "metadata": {},
     "output_type": "display_data"
    }
   ],
   "source": [
    "import pandas as pd \n",
    "file = '../data/raw/crimedata_csv_all_years.csv'\n",
    "df = pd.read_csv(file)\n",
    "display( df.info()) # This is to get information on what the columns are in the dataframe"
   ]
  },
  {
   "cell_type": "markdown",
   "id": "75f62fd9",
   "metadata": {},
   "source": [
    "### Year column info\n",
    "The table above is of the year column. This table might not be seen as very usful. However, I beleive it does because it shows us that the information given to us had occured between the times of 2003 and 2021. This gievs us a brakground of information of almost 2 decades. "
   ]
  },
  {
   "cell_type": "code",
   "execution_count": 87,
   "id": "0ca6b3e4",
   "metadata": {},
   "outputs": [
    {
     "data": {
      "text/plain": [
       "count    793916.000000\n",
       "mean       2011.189500\n",
       "std           5.528776\n",
       "min        2003.000000\n",
       "25%        2006.000000\n",
       "50%        2011.000000\n",
       "75%        2016.000000\n",
       "max        2021.000000\n",
       "Name: YEAR, dtype: float64"
      ]
     },
     "metadata": {},
     "output_type": "display_data"
    }
   ],
   "source": [
    "display(df[\"YEAR\"].describe()) # this is to show the years that this data frame includes"
   ]
  },
  {
   "cell_type": "markdown",
   "id": "aef995ef",
   "metadata": {},
   "source": [
    "### Type of crime Statistics \n",
    "Here we can see the amount of crimes, amount of crimes, most common crimes, and frequency of the most common crimes between 2003 and 2021 in vancouver\n",
    "This gives us a good idea of crimes commited in Vancouver "
   ]
  },
  {
   "cell_type": "code",
   "execution_count": 103,
   "id": "09220ddc",
   "metadata": {},
   "outputs": [
    {
     "data": {
      "text/plain": [
       "count                 793916\n",
       "unique                    11\n",
       "top       Theft from Vehicle\n",
       "freq                  224662\n",
       "Name: TYPE, dtype: object"
      ]
     },
     "metadata": {},
     "output_type": "display_data"
    }
   ],
   "source": [
    "display(df[\"TYPE\"].describe()) # this si to show information on the types of crimes commited"
   ]
  },
  {
   "cell_type": "markdown",
   "id": "56c8a7d4",
   "metadata": {},
   "source": [
    "### List of Crimes\n",
    "Here is all the different types of crimes commited in vancouver"
   ]
  },
  {
   "cell_type": "code",
   "execution_count": 9,
   "id": "aa7d6355",
   "metadata": {
    "scrolled": true
   },
   "outputs": [
    {
     "data": {
      "text/plain": [
       "array(['Theft from Vehicle', 'Theft of Bicycle', 'Theft of Vehicle',\n",
       "       'Vehicle Collision or Pedestrian Struck (with Fatality)',\n",
       "       'Vehicle Collision or Pedestrian Struck (with Injury)',\n",
       "       'Break and Enter Commercial', 'Break and Enter Residential/Other',\n",
       "       'Homicide', 'Mischief', 'Offence Against a Person', 'Other Theft'],\n",
       "      dtype=object)"
      ]
     },
     "metadata": {},
     "output_type": "display_data"
    }
   ],
   "source": [
    "display(df[\"TYPE\"].unique()) # this is to show all the different types of crimes that are commited in the data set  '''"
   ]
  },
  {
   "cell_type": "code",
   "execution_count": 14,
   "id": "be8a7348",
   "metadata": {},
   "outputs": [
    {
     "data": {
      "text/plain": [
       "Theft from Vehicle                                        224662\n",
       "Other Theft                                               192655\n",
       "Mischief                                                   92912\n",
       "Break and Enter Residential/Other                          69367\n",
       "Offence Against a Person                                   67463\n",
       "Break and Enter Commercial                                 43067\n",
       "Theft of Vehicle                                           42794\n",
       "Theft of Bicycle                                           33763\n",
       "Vehicle Collision or Pedestrian Struck (with Injury)       26647\n",
       "Vehicle Collision or Pedestrian Struck (with Fatality)       306\n",
       "Homicide                                                     280\n",
       "Name: TYPE, dtype: int64"
      ]
     },
     "execution_count": 14,
     "metadata": {},
     "output_type": "execute_result"
    }
   ],
   "source": [
    "df['TYPE'].value_counts()"
   ]
  },
  {
   "cell_type": "markdown",
   "id": "5e899fad",
   "metadata": {},
   "source": [
    "# Analysis Pipeline / Method Chaining "
   ]
  },
  {
   "cell_type": "markdown",
   "id": "918d2de0",
   "metadata": {},
   "source": [
    "  Deletes all columns i dont want as well as finds the dates that i have chosen fron the past 18 years"
   ]
  },
  {
   "cell_type": "code",
   "execution_count": 15,
   "id": "3ebeba4d",
   "metadata": {},
   "outputs": [],
   "source": [
    "import pandas as pd \n",
    "import numpy as np\n",
    "def load_and_process(day, month, file):\n",
    "\n",
    "    dataFrame = (\n",
    "        pd.read_csv(file)\n",
    "        .drop(columns=[\"YEAR\", \"HOUR\", \"MINUTE\", \"HUNDRED_BLOCK\", \"NEIGHBOURHOOD\", \"X\", \"Y\"])\n",
    "        .loc[lambda x: x[\"DAY\"] == day]\n",
    "        .loc[lambda x : x[\"MONTH\" ]== month]\n",
    "        .assign(Date = month + \" \" + day)\n",
    "    )\n",
    "\n",
    "    return dataFrame"
   ]
  },
  {
   "cell_type": "markdown",
   "id": "bde04feb",
   "metadata": {},
   "source": [
    "this method helps me flip the data from being vertical to horizontal "
   ]
  },
  {
   "cell_type": "code",
   "execution_count": 8,
   "id": "88ed0c09",
   "metadata": {},
   "outputs": [
    {
     "data": {
      "text/html": [
       "<div>\n",
       "<style scoped>\n",
       "    .dataframe tbody tr th:only-of-type {\n",
       "        vertical-align: middle;\n",
       "    }\n",
       "\n",
       "    .dataframe tbody tr th {\n",
       "        vertical-align: top;\n",
       "    }\n",
       "\n",
       "    .dataframe thead th {\n",
       "        text-align: right;\n",
       "    }\n",
       "</style>\n",
       "<table border=\"1\" class=\"dataframe\">\n",
       "  <thead>\n",
       "    <tr style=\"text-align: right;\">\n",
       "      <th>TYPE</th>\n",
       "      <th>Break and Enter Commercial</th>\n",
       "      <th>Break and Enter Residential/Other</th>\n",
       "      <th>Mischief</th>\n",
       "      <th>Offence Against a Person</th>\n",
       "      <th>Other Theft</th>\n",
       "      <th>Theft from Vehicle</th>\n",
       "      <th>Theft of Bicycle</th>\n",
       "      <th>Theft of Vehicle</th>\n",
       "      <th>Vehicle Collision or Pedestrian Struck (with Fatality)</th>\n",
       "      <th>Vehicle Collision or Pedestrian Struck (with Injury)</th>\n",
       "      <th>Total</th>\n",
       "    </tr>\n",
       "    <tr>\n",
       "      <th>row_0</th>\n",
       "      <th></th>\n",
       "      <th></th>\n",
       "      <th></th>\n",
       "      <th></th>\n",
       "      <th></th>\n",
       "      <th></th>\n",
       "      <th></th>\n",
       "      <th></th>\n",
       "      <th></th>\n",
       "      <th></th>\n",
       "      <th></th>\n",
       "    </tr>\n",
       "  </thead>\n",
       "  <tbody>\n",
       "    <tr>\n",
       "      <th>0</th>\n",
       "      <td>112</td>\n",
       "      <td>133</td>\n",
       "      <td>180</td>\n",
       "      <td>163</td>\n",
       "      <td>203</td>\n",
       "      <td>453</td>\n",
       "      <td>16</td>\n",
       "      <td>85</td>\n",
       "      <td>1</td>\n",
       "      <td>40</td>\n",
       "      <td>1386</td>\n",
       "    </tr>\n",
       "  </tbody>\n",
       "</table>\n",
       "</div>"
      ],
      "text/plain": [
       "TYPE   Break and Enter Commercial  Break and Enter Residential/Other  \\\n",
       "row_0                                                                  \n",
       "0                             112                                133   \n",
       "\n",
       "TYPE   Mischief  Offence Against a Person  Other Theft  Theft from Vehicle  \\\n",
       "row_0                                                                        \n",
       "0           180                       163          203                 453   \n",
       "\n",
       "TYPE   Theft of Bicycle  Theft of Vehicle  \\\n",
       "row_0                                       \n",
       "0                    16                85   \n",
       "\n",
       "TYPE   Vehicle Collision or Pedestrian Struck (with Fatality)  \\\n",
       "row_0                                                           \n",
       "0                                                      1        \n",
       "\n",
       "TYPE   Vehicle Collision or Pedestrian Struck (with Injury)  Total  \n",
       "row_0                                                               \n",
       "0                                                     40      1386  "
      ]
     },
     "execution_count": 8,
     "metadata": {},
     "output_type": "execute_result"
    }
   ],
   "source": [
    "\n",
    "def Make_To_Table(dataframe): \n",
    "    df = dataframe['TYPE'].value_counts(sort = True)\n",
    "    dataframe = ( \n",
    "        pd.crosstab(index= 0, columns= dataframe[\"TYPE\"])\n",
    "        .assign(Total= df.sum())   \n",
    "    )\n",
    "    return dataframe\n",
    "    \n"
   ]
  },
  {
   "cell_type": "markdown",
   "id": "bea679cb",
   "metadata": {},
   "source": [
    "This function creates a new column (sigDiff) on the table and drops all columns. This table is to show if the crim stats are significaly higher during the holidays or not "
   ]
  },
  {
   "cell_type": "code",
   "execution_count": 1,
   "id": "8a29ae1b",
   "metadata": {},
   "outputs": [],
   "source": [
    "\n",
    "def Find_sig(dataFrame, std,mean):\n",
    "    sigNum = mean + (std*3)\n",
    "    DataF = (\n",
    "        pd.DataFrame(dataFrame)\n",
    "        .assign(sigDiff = (dataFrame[\"Total\"] > sigNum) )\n",
    "        .drop(columns=['Theft from Vehicle', 'Theft of Bicycle', 'Theft of Vehicle',\n",
    "       'Vehicle Collision or Pedestrian Struck (with Fatality)',\n",
    "       'Vehicle Collision or Pedestrian Struck (with Injury)',\n",
    "       'Break and Enter Commercial', 'Break and Enter Residential/Other',\n",
    "       'Homicide', 'Mischief', 'Offence Against a Person', 'Other Theft'])\n",
    "    )\n",
    "    DataF = DataF[['Holiday', 'Total', 'sigDiff']]\n",
    "    return DataF"
   ]
  },
  {
   "cell_type": "markdown",
   "id": "f239f41f",
   "metadata": {},
   "source": [
    "This finds 100 random dates as the original dataframe and I use it as my population because editing 800,000 entries takes too long of a time so 100 is what i am working with"
   ]
  },
  {
   "cell_type": "code",
   "execution_count": 16,
   "id": "be41483a",
   "metadata": {},
   "outputs": [],
   "source": [
    "import random\n",
    "file = '../data/raw/crimedata_csv_all_years.csv'\n",
    "\n",
    "\n",
    "def Rand_dates(file):\n",
    "    for x in range(100):\n",
    "        a = random.randint(1,12)\n",
    "        if a==1 or a ==3 or a==5 or a==7 or a ==8 or a== 10 or a==12:\n",
    "            b = random.randint(1,31)\n",
    "            place = load_and_process(b,a, file)\n",
    "        elif a == 4 or a== 6 or a ==9 or a == 11:\n",
    "            b = random.randint(1,30)\n",
    "            place = load_and_process(b,a, file)\n",
    "        else: \n",
    "            b = random.randint(1,28)\n",
    "            place = load_and_process(b,a, file) \n",
    "        if x == 0: \n",
    "            df = place\n",
    "            df = Make_To_Table(df)\n",
    "        else:\n",
    "            place = Make_To_Table(place)\n",
    "            df = pd.merge(df,place, how = \"outer\")\n",
    "    return df"
   ]
  },
  {
   "cell_type": "markdown",
   "id": "123f57b4",
   "metadata": {},
   "source": [
    "\n",
    "This function wil find the mean of the random dates"
   ]
  },
  {
   "cell_type": "code",
   "execution_count": null,
   "id": "363228ac",
   "metadata": {},
   "outputs": [],
   "source": [
    "def Find_mean(df):\n",
    "    mean = df[\"Total\"].mean()\n",
    "    return mean"
   ]
  },
  {
   "cell_type": "markdown",
   "id": "b2adf83c",
   "metadata": {},
   "source": [
    "This function will find the standard deviation of the randome dates"
   ]
  },
  {
   "cell_type": "code",
   "execution_count": null,
   "id": "5de75b91",
   "metadata": {},
   "outputs": [],
   "source": [
    "def Find_Std(df):\n",
    "    std = df['Total'].std()\n",
    "    return std"
   ]
  },
  {
   "cell_type": "markdown",
   "id": "5cabafb7",
   "metadata": {},
   "source": [
    "This function is called to merge all steps of other functions into one"
   ]
  },
  {
   "cell_type": "code",
   "execution_count": 19,
   "id": "d67986eb",
   "metadata": {},
   "outputs": [],
   "source": [
    "def Holidays(Holidays,day,month,file):\n",
    "    df = load_and_process(day, month, file)\n",
    "    df = Make_To_Table(df)\n",
    "    df = df.assign(Holiday = Holidays)\n",
    "    return df"
   ]
  },
  {
   "cell_type": "markdown",
   "id": "8a6e34f6",
   "metadata": {},
   "source": [
    "This function is created to merge all the holidays into one dataframe"
   ]
  },
  {
   "cell_type": "code",
   "execution_count": 15,
   "id": "5539cf2f",
   "metadata": {},
   "outputs": [],
   "source": [
    "\n",
    "def mrg(list):\n",
    "    for x in range(len(list)):\n",
    "        if x == 0:\n",
    "            df = list[x]\n",
    "        else: \n",
    "           df = pd.merge(df,list[x], how = \"outer\") \n",
    "    df = df[['Holiday', 'Theft from Vehicle', 'Theft of Bicycle', 'Theft of Vehicle',\n",
    "       'Vehicle Collision or Pedestrian Struck (with Fatality)',\n",
    "       'Vehicle Collision or Pedestrian Struck (with Injury)',\n",
    "       'Break and Enter Commercial', 'Break and Enter Residential/Other',\n",
    "       'Homicide', 'Mischief', 'Offence Against a Person', 'Other Theft', \"Total\"]]\n",
    "    return df\n",
    "\n",
    "\n"
   ]
  },
  {
   "cell_type": "markdown",
   "id": "c525bd2c",
   "metadata": {},
   "source": [
    "# Method Chaining"
   ]
  },
  {
   "cell_type": "code",
   "execution_count": 2,
   "id": "c02909b9",
   "metadata": {},
   "outputs": [
    {
     "data": {
      "text/html": [
       "<div>\n",
       "<style scoped>\n",
       "    .dataframe tbody tr th:only-of-type {\n",
       "        vertical-align: middle;\n",
       "    }\n",
       "\n",
       "    .dataframe tbody tr th {\n",
       "        vertical-align: top;\n",
       "    }\n",
       "\n",
       "    .dataframe thead th {\n",
       "        text-align: right;\n",
       "    }\n",
       "</style>\n",
       "<table border=\"1\" class=\"dataframe\">\n",
       "  <thead>\n",
       "    <tr style=\"text-align: right;\">\n",
       "      <th>TYPE</th>\n",
       "      <th>Holiday</th>\n",
       "      <th>Theft from Vehicle</th>\n",
       "      <th>Theft of Bicycle</th>\n",
       "      <th>Theft of Vehicle</th>\n",
       "      <th>Vehicle Collision or Pedestrian Struck (with Fatality)</th>\n",
       "      <th>Vehicle Collision or Pedestrian Struck (with Injury)</th>\n",
       "      <th>Break and Enter Commercial</th>\n",
       "      <th>Break and Enter Residential/Other</th>\n",
       "      <th>Homicide</th>\n",
       "      <th>Mischief</th>\n",
       "      <th>Offence Against a Person</th>\n",
       "      <th>Other Theft</th>\n",
       "      <th>Total</th>\n",
       "    </tr>\n",
       "  </thead>\n",
       "  <tbody>\n",
       "    <tr>\n",
       "      <th>0</th>\n",
       "      <td>ChristmasEve</td>\n",
       "      <td>453</td>\n",
       "      <td>16</td>\n",
       "      <td>85</td>\n",
       "      <td>1.0</td>\n",
       "      <td>40</td>\n",
       "      <td>112</td>\n",
       "      <td>133</td>\n",
       "      <td>NaN</td>\n",
       "      <td>180</td>\n",
       "      <td>163</td>\n",
       "      <td>203</td>\n",
       "      <td>1386</td>\n",
       "    </tr>\n",
       "    <tr>\n",
       "      <th>1</th>\n",
       "      <td>ChristmasDay</td>\n",
       "      <td>583</td>\n",
       "      <td>29</td>\n",
       "      <td>93</td>\n",
       "      <td>NaN</td>\n",
       "      <td>39</td>\n",
       "      <td>119</td>\n",
       "      <td>141</td>\n",
       "      <td>NaN</td>\n",
       "      <td>212</td>\n",
       "      <td>137</td>\n",
       "      <td>437</td>\n",
       "      <td>1790</td>\n",
       "    </tr>\n",
       "    <tr>\n",
       "      <th>2</th>\n",
       "      <td>NewyearsEve</td>\n",
       "      <td>656</td>\n",
       "      <td>29</td>\n",
       "      <td>94</td>\n",
       "      <td>NaN</td>\n",
       "      <td>51</td>\n",
       "      <td>149</td>\n",
       "      <td>208</td>\n",
       "      <td>1.0</td>\n",
       "      <td>295</td>\n",
       "      <td>198</td>\n",
       "      <td>501</td>\n",
       "      <td>2182</td>\n",
       "    </tr>\n",
       "    <tr>\n",
       "      <th>3</th>\n",
       "      <td>NewyYearsDay</td>\n",
       "      <td>731</td>\n",
       "      <td>72</td>\n",
       "      <td>121</td>\n",
       "      <td>NaN</td>\n",
       "      <td>61</td>\n",
       "      <td>129</td>\n",
       "      <td>197</td>\n",
       "      <td>1.0</td>\n",
       "      <td>387</td>\n",
       "      <td>683</td>\n",
       "      <td>578</td>\n",
       "      <td>2960</td>\n",
       "    </tr>\n",
       "    <tr>\n",
       "      <th>4</th>\n",
       "      <td>CanadaDay</td>\n",
       "      <td>614</td>\n",
       "      <td>174</td>\n",
       "      <td>140</td>\n",
       "      <td>2.0</td>\n",
       "      <td>64</td>\n",
       "      <td>106</td>\n",
       "      <td>202</td>\n",
       "      <td>1.0</td>\n",
       "      <td>324</td>\n",
       "      <td>282</td>\n",
       "      <td>581</td>\n",
       "      <td>2490</td>\n",
       "    </tr>\n",
       "    <tr>\n",
       "      <th>5</th>\n",
       "      <td>ValDay</td>\n",
       "      <td>670</td>\n",
       "      <td>52</td>\n",
       "      <td>125</td>\n",
       "      <td>NaN</td>\n",
       "      <td>85</td>\n",
       "      <td>137</td>\n",
       "      <td>208</td>\n",
       "      <td>2.0</td>\n",
       "      <td>246</td>\n",
       "      <td>194</td>\n",
       "      <td>605</td>\n",
       "      <td>2324</td>\n",
       "    </tr>\n",
       "    <tr>\n",
       "      <th>6</th>\n",
       "      <td>Halloween</td>\n",
       "      <td>618</td>\n",
       "      <td>59</td>\n",
       "      <td>125</td>\n",
       "      <td>NaN</td>\n",
       "      <td>74</td>\n",
       "      <td>146</td>\n",
       "      <td>213</td>\n",
       "      <td>2.0</td>\n",
       "      <td>526</td>\n",
       "      <td>254</td>\n",
       "      <td>577</td>\n",
       "      <td>2594</td>\n",
       "    </tr>\n",
       "  </tbody>\n",
       "</table>\n",
       "</div>"
      ],
      "text/plain": [
       "TYPE       Holiday  Theft from Vehicle  Theft of Bicycle  Theft of Vehicle  \\\n",
       "0     ChristmasEve                 453                16                85   \n",
       "1     ChristmasDay                 583                29                93   \n",
       "2      NewyearsEve                 656                29                94   \n",
       "3     NewyYearsDay                 731                72               121   \n",
       "4        CanadaDay                 614               174               140   \n",
       "5           ValDay                 670                52               125   \n",
       "6        Halloween                 618                59               125   \n",
       "\n",
       "TYPE  Vehicle Collision or Pedestrian Struck (with Fatality)  \\\n",
       "0                                                   1.0        \n",
       "1                                                   NaN        \n",
       "2                                                   NaN        \n",
       "3                                                   NaN        \n",
       "4                                                   2.0        \n",
       "5                                                   NaN        \n",
       "6                                                   NaN        \n",
       "\n",
       "TYPE  Vehicle Collision or Pedestrian Struck (with Injury)  \\\n",
       "0                                                    40      \n",
       "1                                                    39      \n",
       "2                                                    51      \n",
       "3                                                    61      \n",
       "4                                                    64      \n",
       "5                                                    85      \n",
       "6                                                    74      \n",
       "\n",
       "TYPE  Break and Enter Commercial  Break and Enter Residential/Other  Homicide  \\\n",
       "0                            112                                133       NaN   \n",
       "1                            119                                141       NaN   \n",
       "2                            149                                208       1.0   \n",
       "3                            129                                197       1.0   \n",
       "4                            106                                202       1.0   \n",
       "5                            137                                208       2.0   \n",
       "6                            146                                213       2.0   \n",
       "\n",
       "TYPE  Mischief  Offence Against a Person  Other Theft  Total  \n",
       "0          180                       163          203   1386  \n",
       "1          212                       137          437   1790  \n",
       "2          295                       198          501   2182  \n",
       "3          387                       683          578   2960  \n",
       "4          324                       282          581   2490  \n",
       "5          246                       194          605   2324  \n",
       "6          526                       254          577   2594  "
      ]
     },
     "metadata": {},
     "output_type": "display_data"
    }
   ],
   "source": [
    "import project_functions1 as p1\n",
    "file = '../data/raw/crimedata_csv_all_years.csv'\n",
    "Hcrime = p1.First_Mod()\n",
    "display(Hcrime)\n",
    "Hcrime.to_csv(\"../data/processed/HolidayCrime.csv\")"
   ]
  },
  {
   "cell_type": "code",
   "execution_count": 22,
   "id": "9a8733cb",
   "metadata": {},
   "outputs": [
    {
     "data": {
      "text/html": [
       "<div>\n",
       "<style scoped>\n",
       "    .dataframe tbody tr th:only-of-type {\n",
       "        vertical-align: middle;\n",
       "    }\n",
       "\n",
       "    .dataframe tbody tr th {\n",
       "        vertical-align: top;\n",
       "    }\n",
       "\n",
       "    .dataframe thead th {\n",
       "        text-align: right;\n",
       "    }\n",
       "</style>\n",
       "<table border=\"1\" class=\"dataframe\">\n",
       "  <thead>\n",
       "    <tr style=\"text-align: right;\">\n",
       "      <th>TYPE</th>\n",
       "      <th>Holiday</th>\n",
       "      <th>Total</th>\n",
       "      <th>sigDiff</th>\n",
       "    </tr>\n",
       "  </thead>\n",
       "  <tbody>\n",
       "    <tr>\n",
       "      <th>0</th>\n",
       "      <td>ChristmasEve</td>\n",
       "      <td>1386</td>\n",
       "      <td>False</td>\n",
       "    </tr>\n",
       "    <tr>\n",
       "      <th>1</th>\n",
       "      <td>ChristmasDay</td>\n",
       "      <td>1790</td>\n",
       "      <td>False</td>\n",
       "    </tr>\n",
       "    <tr>\n",
       "      <th>2</th>\n",
       "      <td>NewyearsEve</td>\n",
       "      <td>2182</td>\n",
       "      <td>False</td>\n",
       "    </tr>\n",
       "    <tr>\n",
       "      <th>3</th>\n",
       "      <td>NewyYearsDay</td>\n",
       "      <td>2960</td>\n",
       "      <td>True</td>\n",
       "    </tr>\n",
       "    <tr>\n",
       "      <th>4</th>\n",
       "      <td>CanadaDay</td>\n",
       "      <td>2490</td>\n",
       "      <td>False</td>\n",
       "    </tr>\n",
       "    <tr>\n",
       "      <th>5</th>\n",
       "      <td>ValDay</td>\n",
       "      <td>2324</td>\n",
       "      <td>False</td>\n",
       "    </tr>\n",
       "    <tr>\n",
       "      <th>6</th>\n",
       "      <td>Halloween</td>\n",
       "      <td>2594</td>\n",
       "      <td>False</td>\n",
       "    </tr>\n",
       "  </tbody>\n",
       "</table>\n",
       "</div>"
      ],
      "text/plain": [
       "TYPE       Holiday  Total  sigDiff\n",
       "0     ChristmasEve   1386    False\n",
       "1     ChristmasDay   1790    False\n",
       "2      NewyearsEve   2182    False\n",
       "3     NewyYearsDay   2960     True\n",
       "4        CanadaDay   2490    False\n",
       "5           ValDay   2324    False\n",
       "6        Halloween   2594    False"
      ]
     },
     "metadata": {},
     "output_type": "display_data"
    }
   ],
   "source": [
    "file = '../data/raw/crimedata_csv_all_years.csv'\n",
    "df1 = p1.Rand_date(file)\n",
    "df1.to_csv('../data/processed/randcrimeDates.csv')\n",
    "SigDates = p1.Sec_Mod(Hcrime,df1)\n",
    "display(SigDates)"
   ]
  },
  {
   "cell_type": "code",
   "execution_count": 3,
   "id": "e6691d98",
   "metadata": {},
   "outputs": [
    {
     "data": {
      "image/png": "[encoded data removed]",
      "text/plain": [
       "<Figure size 640x480 with 1 Axes>"
      ]
     },
     "metadata": {},
     "output_type": "display_data"
    }
   ],
   "source": [
    "box_plot = p1.Third_Mod(Hcrime,df1)"
   ]
  },
  {
   "cell_type": "code",
   "execution_count": 4,
   "id": "03eca532",
   "metadata": {},
   "outputs": [
    {
     "data": {
      "text/plain": [
       "<AxesSubplot: xlabel='Holiday', ylabel='Total'>"
      ]
     },
     "execution_count": 4,
     "metadata": {},
     "output_type": "execute_result"
    },
    {
     "data": {
      "image/png": "[encoded data removed]",
      "text/plain": [
       "<Figure size 640x480 with 1 Axes>"
      ]
     },
     "metadata": {},
     "output_type": "display_data"
    }
   ],
   "source": [
    "import seaborn as sns \n",
    "sns.barplot(Hcrime, x=\"Holiday\", y=\"Total\")"
   ]
  },
  {
   "cell_type": "markdown",
   "id": "6fcaef76",
   "metadata": {},
   "source": [
    "# Research Answer"
   ]
  },
  {
   "cell_type": "markdown",
   "id": "e0f59185",
   "metadata": {},
   "source": [
    "As we can see from the cat and whiskers plot the average amount of crimes commited Named Total on the x axies is 2200 cimes. with the lower hindge being about 2100 and 2300 and the oute rhindges being 1900 and 2500. Any data outside of these ranges are considered outside 3 standed devations meaning that is is a significant value.  Out of all the Holidays two of them are outside if the Outer hindgers. if we look at the secound graph we can tell that these Holidays are Christmas Eve and Newyears Day. However both of these days are on opposite sides of the The graph. Newyears days Brings a significantly more amout of Crime meanwhile Christmas Eve brings significanly Less amount of crime. This means that my theory of Holidays causing more crime is not true as only two Holidays are outside the 99% margine mean while they are on the opposite sides of eachother indecating that all though some holidays may increase crime others actually decrease crime in Vancouver. "
   ]
  },
  {
   "cell_type": "code",
   "execution_count": null,
   "id": "d15c9134",
   "metadata": {},
   "outputs": [],
   "source": []
  }
 ],
 "metadata": {
  "kernelspec": {
   "display_name": "Python 3 (ipykernel)",
   "language": "python",
   "name": "python3"
  },
  "language_info": {
   "codemirror_mode": {
    "name": "ipython",
    "version": 3
   },
   "file_extension": ".py",
   "mimetype": "text/x-python",
   "name": "python",
   "nbconvert_exporter": "python",
   "pygments_lexer": "ipython3",
   "version": "3.9.13"
  },
  "vscode": {
   "interpreter": {
    "hash": "aee8b7b246df8f9039afb4144a1f6fd8d2ca17a180786b69acc140d282b71a49"
   }
  }
 },
 "nbformat": 4,
 "nbformat_minor": 5
}

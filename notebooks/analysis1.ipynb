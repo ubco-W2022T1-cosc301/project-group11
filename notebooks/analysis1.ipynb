{
 "cells": [
  {
   "cell_type": "markdown",
   "id": "d2a789df",
   "metadata": {},
   "source": [
    "# Luca deVerteuil\n"
   ]
  },
  {
   "cell_type": "markdown",
   "id": "861514d6",
   "metadata": {},
   "source": [
    "# Milestone 3: \n",
    "## EDA\n"
   ]
  },
  {
   "cell_type": "markdown",
   "id": "855f3ac9",
   "metadata": {},
   "source": [
    "### Data Frame Info \n",
    "<p> This data table that is shown right now is to get a clear view of all the columns in the table and their Data type. <br> \n",
    "The data columns that we will be focusing on are:  </p>\n",
    "\n",
    "1. TYPE : which is type of crime that was commited \n",
    "1. MONTH: Which is what month the crime was reported on \n",
    "1. DAY : Which is what day the crime was reported on \n",
    "\n"
   ]
  },
  {
   "cell_type": "code",
   "execution_count": 271,
   "id": "71ba2e50",
   "metadata": {},
   "outputs": [
    {
     "name": "stdout",
     "output_type": "stream",
     "text": [
      "<class 'pandas.core.frame.DataFrame'>\n",
      "RangeIndex: 793916 entries, 0 to 793915\n",
      "Data columns (total 10 columns):\n",
      " #   Column         Non-Null Count   Dtype  \n",
      "---  ------         --------------   -----  \n",
      " 0   TYPE           793916 non-null  object \n",
      " 1   YEAR           793916 non-null  int64  \n",
      " 2   MONTH          793916 non-null  int64  \n",
      " 3   DAY            793916 non-null  int64  \n",
      " 4   HOUR           793916 non-null  int64  \n",
      " 5   MINUTE         793916 non-null  int64  \n",
      " 6   HUNDRED_BLOCK  793904 non-null  object \n",
      " 7   NEIGHBOURHOOD  793783 non-null  object \n",
      " 8   X              793843 non-null  float64\n",
      " 9   Y              793843 non-null  float64\n",
      "dtypes: float64(2), int64(5), object(3)\n",
      "memory usage: 60.6+ MB\n"
     ]
    },
    {
     "data": {
      "text/plain": [
       "None"
      ]
     },
     "metadata": {},
     "output_type": "display_data"
    }
   ],
   "source": [
    "import pandas as pd \n",
    "file = '../data/raw/crimedata_csv_all_years.csv'\n",
    "df = pd.read_csv(file)\n",
    "display( df.info()) # This is to get information on what the columns are in the dataframe"
   ]
  },
  {
   "cell_type": "markdown",
   "id": "75f62fd9",
   "metadata": {},
   "source": [
    "### Year column info\n",
    "The table above is of the year column. This table might not be seen as very usful. However, I beleive it does because it shows us that the information given to us had occured between the times of 2003 and 2021. This gievs us a brakground of information of almost 2 decades. "
   ]
  },
  {
   "cell_type": "code",
   "execution_count": 87,
   "id": "0ca6b3e4",
   "metadata": {},
   "outputs": [
    {
     "data": {
      "text/plain": [
       "count    793916.000000\n",
       "mean       2011.189500\n",
       "std           5.528776\n",
       "min        2003.000000\n",
       "25%        2006.000000\n",
       "50%        2011.000000\n",
       "75%        2016.000000\n",
       "max        2021.000000\n",
       "Name: YEAR, dtype: float64"
      ]
     },
     "metadata": {},
     "output_type": "display_data"
    }
   ],
   "source": [
    "display(df[\"YEAR\"].describe()) # this is to show the years that this data frame includes"
   ]
  },
  {
   "cell_type": "markdown",
   "id": "aef995ef",
   "metadata": {},
   "source": [
    "### Type of crime Statistics \n",
    "Here we can see the amount of crimes, amount of crimes, most common crimes, and frequency of the most common crimes between 2003 and 2021 in vancouver\n",
    "This gives us a good idea of crimes commited in Vancouver "
   ]
  },
  {
   "cell_type": "code",
   "execution_count": 103,
   "id": "09220ddc",
   "metadata": {},
   "outputs": [
    {
     "data": {
      "text/plain": [
       "count                 793916\n",
       "unique                    11\n",
       "top       Theft from Vehicle\n",
       "freq                  224662\n",
       "Name: TYPE, dtype: object"
      ]
     },
     "metadata": {},
     "output_type": "display_data"
    }
   ],
   "source": [
    "display(df[\"TYPE\"].describe()) # this si to show information on the types of crimes commited"
   ]
  },
  {
   "cell_type": "markdown",
   "id": "56c8a7d4",
   "metadata": {},
   "source": [
    "### List of Crimes\n",
    "Here is all the different types of crimes commited in vancouver"
   ]
  },
  {
   "cell_type": "code",
   "execution_count": 104,
   "id": "aa7d6355",
   "metadata": {},
   "outputs": [
    {
     "data": {
      "text/plain": [
       "array(['Theft from Vehicle', 'Theft of Bicycle', 'Theft of Vehicle',\n",
       "       'Vehicle Collision or Pedestrian Struck (with Fatality)',\n",
       "       'Vehicle Collision or Pedestrian Struck (with Injury)',\n",
       "       'Break and Enter Commercial', 'Break and Enter Residential/Other',\n",
       "       'Homicide', 'Mischief', 'Offence Against a Person', 'Other Theft'],\n",
       "      dtype=object)"
      ]
     },
     "metadata": {},
     "output_type": "display_data"
    }
   ],
   "source": [
    "display(df[\"TYPE\"].unique()) # this is to show all the different types of crimes that are commited in the data set  '''"
   ]
  },
  {
   "cell_type": "markdown",
   "id": "5e899fad",
   "metadata": {},
   "source": []
  },
  {
   "cell_type": "code",
   "execution_count": 272,
   "id": "8a29ae1b",
   "metadata": {},
   "outputs": [],
   "source": [
    "\n",
    "import pandas as pd \n",
    "def load_and_process(holiday,day, month, file):\n",
    "\n",
    "   # pd.set_option('display.max_rows', None)\n",
    "\n",
    "    # display all the  columns\n",
    "    dataFrame = (\n",
    "        pd.read_csv(file)\n",
    "        .drop(columns=[\"YEAR\", \"HOUR\", \"MINUTE\", \"HUNDRED_BLOCK\", \"NEIGHBOURHOOD\", \"X\", \"Y\"])\n",
    "        .loc[lambda x: x[\"DAY\"] == day]\n",
    "        .loc[lambda x : x[\"MONTH\" ]== month]\n",
    "        \n",
    "    )\n",
    "    #display(dataFrame['TYPE'].value_counts(sort = True))\n",
    "    \n",
    "    return dataFrame\n",
    "\n",
    "def Make_To_Table(dataframe,holiday): \n",
    "    dataframe = pd.crosstab(index= 0, columns= dataframe[\"TYPE\"] )\n",
    "    sum = dataframe.sum()\n",
    "    dataframe.insert(0,\"Holiday\", [holiday],True)\n",
    "    return dataframe\n"
   ]
  },
  {
   "cell_type": "code",
   "execution_count": 276,
   "id": "adffbe37",
   "metadata": {},
   "outputs": [
    {
     "ename": "IndexError",
     "evalue": "only integers, slices (`:`), ellipsis (`...`), numpy.newaxis (`None`) and integer or boolean arrays are valid indices",
     "output_type": "error",
     "traceback": [
      "\u001b[0;31m---------------------------------------------------------------------------\u001b[0m",
      "\u001b[0;31mIndexError\u001b[0m                                Traceback (most recent call last)",
      "Cell \u001b[0;32mIn [276], line 15\u001b[0m\n\u001b[1;32m     13\u001b[0m VDTable \u001b[39m=\u001b[39m Make_To_Table(ValDay,\u001b[39m\"\u001b[39m\u001b[39mValDay\u001b[39m\u001b[39m\"\u001b[39m)\n\u001b[1;32m     14\u001b[0m testmerge \u001b[39m=\u001b[39m pd\u001b[39m.\u001b[39mmerge(pd\u001b[39m.\u001b[39mmerge(pd\u001b[39m.\u001b[39mmerge(pd\u001b[39m.\u001b[39mmerge(pd\u001b[39m.\u001b[39mmerge(CETable,CDTable, how \u001b[39m=\u001b[39m\u001b[39m\"\u001b[39m\u001b[39mouter\u001b[39m\u001b[39m\"\u001b[39m), NETable, how \u001b[39m=\u001b[39m \u001b[39m\"\u001b[39m\u001b[39mouter\u001b[39m\u001b[39m\"\u001b[39m ),NDTable, how \u001b[39m=\u001b[39m \u001b[39m\"\u001b[39m\u001b[39mouter\u001b[39m\u001b[39m\"\u001b[39m),CADTable, how \u001b[39m=\u001b[39m \u001b[39m\"\u001b[39m\u001b[39mouter\u001b[39m\u001b[39m\"\u001b[39m),VDTable, how \u001b[39m=\u001b[39m \u001b[39m\"\u001b[39m\u001b[39mouter\u001b[39m\u001b[39m\"\u001b[39m)\n\u001b[0;32m---> 15\u001b[0m testmerge\u001b[39m.\u001b[39;49mindex[\u001b[39m\"\u001b[39;49m\u001b[39mTYPE\u001b[39;49m\u001b[39m\"\u001b[39;49m]\n",
      "File \u001b[0;32m/Library/Frameworks/Python.framework/Versions/3.10/lib/python3.10/site-packages/pandas/core/indexes/base.py:5055\u001b[0m, in \u001b[0;36mIndex.__getitem__\u001b[0;34m(self, key)\u001b[0m\n\u001b[1;32m   5048\u001b[0m \u001b[39mif\u001b[39;00m com\u001b[39m.\u001b[39mis_bool_indexer(key):\n\u001b[1;32m   5049\u001b[0m     \u001b[39m# if we have list[bools, length=1e5] then doing this check+convert\u001b[39;00m\n\u001b[1;32m   5050\u001b[0m     \u001b[39m#  takes 166 µs + 2.1 ms and cuts the ndarray.__getitem__\u001b[39;00m\n\u001b[1;32m   5051\u001b[0m     \u001b[39m#  time below from 3.8 ms to 496 µs\u001b[39;00m\n\u001b[1;32m   5052\u001b[0m     \u001b[39m# if we already have ndarray[bool], the overhead is 1.4 µs or .25%\u001b[39;00m\n\u001b[1;32m   5053\u001b[0m     key \u001b[39m=\u001b[39m np\u001b[39m.\u001b[39masarray(key, dtype\u001b[39m=\u001b[39m\u001b[39mbool\u001b[39m)\n\u001b[0;32m-> 5055\u001b[0m result \u001b[39m=\u001b[39m getitem(key)\n\u001b[1;32m   5056\u001b[0m \u001b[39m# Because we ruled out integer above, we always get an arraylike here\u001b[39;00m\n\u001b[1;32m   5057\u001b[0m \u001b[39mif\u001b[39;00m result\u001b[39m.\u001b[39mndim \u001b[39m>\u001b[39m \u001b[39m1\u001b[39m:\n",
      "\u001b[0;31mIndexError\u001b[0m: only integers, slices (`:`), ellipsis (`...`), numpy.newaxis (`None`) and integer or boolean arrays are valid indices"
     ]
    }
   ],
   "source": [
    "file = '../data/raw/crimedata_csv_all_years.csv'\n",
    "chisEve = load_and_process('ChristmasEve', 25,12, file)\n",
    "chisDay = load_and_process('ChristmasDay', 26,12, file)\n",
    "NewEve = load_and_process('NewyearsEve', 31,12, file)\n",
    "NewDay =load_and_process('NewyYearsDay', 1 ,1, file) \n",
    "CanDay =load_and_process('CanadaDay', 1 ,7, file)\n",
    "ValDay = load_and_process('ValDay', 14 ,2, file) \n",
    "CETable = Make_To_Table(chisEve,\"ChristmasEve\")\n",
    "CDTable =Make_To_Table(chisDay, \"ChristmasDay\")\n",
    "NETable = Make_To_Table(NewEve,\"NewyearsEve\")\n",
    "NDTable = Make_To_Table(NewDay,\"NewyYearsDay\")\n",
    "CADTable = Make_To_Table(CanDay,\"CanadaDay\")\n",
    "VDTable = Make_To_Table(ValDay,\"ValDay\")\n",
    "testmerge = pd.merge(pd.merge(pd.merge(pd.merge(pd.merge(CETable,CDTable, how =\"outer\"), NETable, how = \"outer\" ),NDTable, how = \"outer\"),CADTable, how = \"outer\"),VDTable, how = \"outer\")\n",
    "testmerge.index\n",
    "\n"
   ]
  }
 ],
 "metadata": {
  "kernelspec": {
   "display_name": "Python 3.10.7 64-bit",
   "language": "python",
   "name": "python3"
  },
  "language_info": {
   "codemirror_mode": {
    "name": "ipython",
    "version": 3
   },
   "file_extension": ".py",
   "mimetype": "text/x-python",
   "name": "python",
   "nbconvert_exporter": "python",
   "pygments_lexer": "ipython3",
   "version": "3.10.7"
  },
  "vscode": {
   "interpreter": {
    "hash": "aee8b7b246df8f9039afb4144a1f6fd8d2ca17a180786b69acc140d282b71a49"
   }
  }
 },
 "nbformat": 4,
 "nbformat_minor": 5
}

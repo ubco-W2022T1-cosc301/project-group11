{
 "cells": [
  {
   "cell_type": "markdown",
   "id": "d2a789df",
   "metadata": {},
   "source": [
    "# Luca deVerteuil\n"
   ]
  },
  {
   "cell_type": "markdown",
   "id": "861514d6",
   "metadata": {},
   "source": [
    "# Milestone 3: \n",
    "## EDA\n"
   ]
  },
  {
   "cell_type": "markdown",
   "id": "9b102179",
   "metadata": {},
   "source": [
    "## About Me And My Topic\n",
    "This data set is really interesting because I am a huge crime drama nerd. With this analytical project I hope to be able to find what time of the year is worse with crime, and how serious of a crime is during these peaks. I have always heard that during the Holidays there is more crime. So with these stats I can see if this is true. I am also curious if this influx in crime also brings an influx in serious crime, meaning offense against another person and breaking and entering. I believe that The amount of serious crime will decrease during holiday periods however I think that petty crime like thief and mischief will increase. My belief on this is because people during these times are intoxicated and make decisions they probably should not have. As well as people are away on vacation so it would be easy to steal vehicles when people are not at their houses."
   ]
  },
  {
   "cell_type": "markdown",
   "id": "855f3ac9",
   "metadata": {},
   "source": [
    "### Data Frame Info \n",
    "<p> This data table that is shown right now is to get a clear view of all the columns in the table and their Data type. <br> \n",
    "The data columns that we will be focusing on are:  </p>\n",
    "\n",
    "1. TYPE : which is type of crime that was commited \n",
    "1. MONTH: Which is what month the crime was reported on \n",
    "1. DAY : Which is what day the crime was reported on \n",
    "\n"
   ]
  },
  {
   "cell_type": "code",
   "execution_count": 2,
   "id": "71ba2e50",
   "metadata": {},
   "outputs": [
    {
     "name": "stdout",
     "output_type": "stream",
     "text": [
      "<class 'pandas.core.frame.DataFrame'>\n",
      "RangeIndex: 793916 entries, 0 to 793915\n",
      "Data columns (total 10 columns):\n",
      " #   Column         Non-Null Count   Dtype  \n",
      "---  ------         --------------   -----  \n",
      " 0   TYPE           793916 non-null  object \n",
      " 1   YEAR           793916 non-null  int64  \n",
      " 2   MONTH          793916 non-null  int64  \n",
      " 3   DAY            793916 non-null  int64  \n",
      " 4   HOUR           793916 non-null  int64  \n",
      " 5   MINUTE         793916 non-null  int64  \n",
      " 6   HUNDRED_BLOCK  793904 non-null  object \n",
      " 7   NEIGHBOURHOOD  793783 non-null  object \n",
      " 8   X              793843 non-null  float64\n",
      " 9   Y              793843 non-null  float64\n",
      "dtypes: float64(2), int64(5), object(3)\n",
      "memory usage: 60.6+ MB\n"
     ]
    },
    {
     "data": {
      "text/plain": [
       "None"
      ]
     },
     "metadata": {},
     "output_type": "display_data"
    }
   ],
   "source": [
    "import pandas as pd \n",
    "file = '../data/raw/crimedata_csv_all_years.csv'\n",
    "df = pd.read_csv(file)\n",
    "display( df.info()) # This is to get information on what the columns are in the dataframe"
   ]
  },
  {
   "cell_type": "markdown",
   "id": "75f62fd9",
   "metadata": {},
   "source": [
    "### Year column info\n",
    "The table above is of the year column. This table might not be seen as very usful. However, I beleive it does because it shows us that the information given to us had occured between the times of 2003 and 2021. This gievs us a brakground of information of almost 2 decades. "
   ]
  },
  {
   "cell_type": "code",
   "execution_count": 87,
   "id": "0ca6b3e4",
   "metadata": {},
   "outputs": [
    {
     "data": {
      "text/plain": [
       "count    793916.000000\n",
       "mean       2011.189500\n",
       "std           5.528776\n",
       "min        2003.000000\n",
       "25%        2006.000000\n",
       "50%        2011.000000\n",
       "75%        2016.000000\n",
       "max        2021.000000\n",
       "Name: YEAR, dtype: float64"
      ]
     },
     "metadata": {},
     "output_type": "display_data"
    }
   ],
   "source": [
    "display(df[\"YEAR\"].describe()) # this is to show the years that this data frame includes"
   ]
  },
  {
   "cell_type": "markdown",
   "id": "aef995ef",
   "metadata": {},
   "source": [
    "### Type of crime Statistics \n",
    "Here we can see the amount of crimes, amount of crimes, most common crimes, and frequency of the most common crimes between 2003 and 2021 in vancouver\n",
    "This gives us a good idea of crimes commited in Vancouver "
   ]
  },
  {
   "cell_type": "code",
   "execution_count": 103,
   "id": "09220ddc",
   "metadata": {},
   "outputs": [
    {
     "data": {
      "text/plain": [
       "count                 793916\n",
       "unique                    11\n",
       "top       Theft from Vehicle\n",
       "freq                  224662\n",
       "Name: TYPE, dtype: object"
      ]
     },
     "metadata": {},
     "output_type": "display_data"
    }
   ],
   "source": [
    "display(df[\"TYPE\"].describe()) # this si to show information on the types of crimes commited"
   ]
  },
  {
   "cell_type": "markdown",
   "id": "56c8a7d4",
   "metadata": {},
   "source": [
    "### List of Crimes\n",
    "Here is all the different types of crimes commited in vancouver"
   ]
  },
  {
   "cell_type": "code",
   "execution_count": 104,
   "id": "aa7d6355",
   "metadata": {},
   "outputs": [
    {
     "data": {
      "text/plain": [
       "array(['Theft from Vehicle', 'Theft of Bicycle', 'Theft of Vehicle',\n",
       "       'Vehicle Collision or Pedestrian Struck (with Fatality)',\n",
       "       'Vehicle Collision or Pedestrian Struck (with Injury)',\n",
       "       'Break and Enter Commercial', 'Break and Enter Residential/Other',\n",
       "       'Homicide', 'Mischief', 'Offence Against a Person', 'Other Theft'],\n",
       "      dtype=object)"
      ]
     },
     "metadata": {},
     "output_type": "display_data"
    }
   ],
   "source": [
    "display(df[\"TYPE\"].unique()) # this is to show all the different types of crimes that are commited in the data set  '''"
   ]
  },
  {
   "cell_type": "markdown",
   "id": "5e899fad",
   "metadata": {},
   "source": [
    "## Theory\n",
    "As stated before I believed that During the holiday seasons the Crime rate increases abovethe average\n"
   ]
  },
  {
   "cell_type": "code",
   "execution_count": 187,
   "id": "8a29ae1b",
   "metadata": {},
   "outputs": [],
   "source": [
    "\n",
    "import pandas as pd \n",
    "import numpy as np\n",
    "def load_and_process(day, month, file):\n",
    "\n",
    "   # pd.set_option('display.max_rows', None)\n",
    "\n",
    "    # display all the  columns\n",
    "    dataFrame = (\n",
    "        pd.read_csv(file)\n",
    "        .drop(columns=[\"YEAR\", \"HOUR\", \"MINUTE\", \"HUNDRED_BLOCK\", \"NEIGHBOURHOOD\", \"X\", \"Y\"])\n",
    "        .loc[lambda x: x[\"DAY\"] == day]\n",
    "        .loc[lambda x : x[\"MONTH\" ]== month]\n",
    "        \n",
    "    )\n",
    "\n",
    "    return dataFrame\n",
    "\n",
    "def Make_To_Table(dataframe): \n",
    "    df = dataframe['TYPE'].value_counts(sort = True)\n",
    "    dataframe = pd.crosstab(index= 0, columns= dataframe[\"TYPE\"] )\n",
    "    dataframe =dataframe.assign(Total= df.sum())\n",
    "    return dataframe\n",
    "\n",
    "def Find_sig(dataFrame, std,mean):\n",
    "    sigNum = mean + (std*2)\n",
    "    DataF = (\n",
    "        pd.DataFrame(dataFrame)\n",
    "        .assign(sigDiff = (dataFrame[\"Total\"] > sigNum) )\n",
    "        .drop(columns=['Theft from Vehicle', 'Theft of Bicycle', 'Theft of Vehicle',\n",
    "       'Vehicle Collision or Pedestrian Struck (with Fatality)',\n",
    "       'Vehicle Collision or Pedestrian Struck (with Injury)',\n",
    "       'Break and Enter Commercial', 'Break and Enter Residential/Other',\n",
    "       'Homicide', 'Mischief', 'Offence Against a Person', 'Other Theft'])\n",
    "    )\n",
    "    DataF = DataF[['Holiday', 'Total', 'sigDiff']]\n",
    "    return DataF\n",
    "    \n"
   ]
  },
  {
   "cell_type": "code",
   "execution_count": 177,
   "id": "5539cf2f",
   "metadata": {},
   "outputs": [
    {
     "name": "stdout",
     "output_type": "stream",
     "text": [
      "2174.866666666667\n",
      "164.02049748584966\n",
      "2502.9076616383663\n"
     ]
    }
   ],
   "source": [
    "\n",
    "import random\n",
    "file = '../data/raw/crimedata_csv_all_years.csv'\n",
    "\n",
    "\n",
    "def Rand_dates(file):\n",
    "    for x in range(100):\n",
    "        a = random.randint(1,12)\n",
    "        if a==1 or a ==3 or a==5 or a==7 or a ==8 or a== 10 or a==12:\n",
    "            b = random.randint(1,31)\n",
    "            place = load_and_process(b,a, file)\n",
    "        elif a == 4 or a== 6 or a ==9 or a == 11:\n",
    "            b = random.randint(1,30)\n",
    "            place = load_and_process(b,a, file)\n",
    "        else: \n",
    "            b = random.randint(1,28)\n",
    "            place = load_and_process(b,a, file) \n",
    "        if x == 0: \n",
    "            df = place\n",
    "            df = Make_To_Table(df)\n",
    "        else:\n",
    "            place = Make_To_Table(place)\n",
    "            df = pd.merge(df,place, how = \"outer\")\n",
    "    return df\n",
    "\n",
    "df1 = Rand_dates(file)\n",
    "df1Mean = df1[\"Total\"].mean()\n",
    "df1Std = df1[\"Total\"].std()\n",
    "sigNum = df1Mean + (df1Std*2)\n",
    "\n"
   ]
  },
  {
   "cell_type": "code",
   "execution_count": 201,
   "id": "b5c82187",
   "metadata": {},
   "outputs": [
    {
     "data": {
      "text/html": [
       "<div>\n",
       "<style scoped>\n",
       "    .dataframe tbody tr th:only-of-type {\n",
       "        vertical-align: middle;\n",
       "    }\n",
       "\n",
       "    .dataframe tbody tr th {\n",
       "        vertical-align: top;\n",
       "    }\n",
       "\n",
       "    .dataframe thead th {\n",
       "        text-align: right;\n",
       "    }\n",
       "</style>\n",
       "<table border=\"1\" class=\"dataframe\">\n",
       "  <thead>\n",
       "    <tr style=\"text-align: right;\">\n",
       "      <th>TYPE</th>\n",
       "      <th>Holiday</th>\n",
       "      <th>Theft from Vehicle</th>\n",
       "      <th>Theft of Bicycle</th>\n",
       "      <th>Theft of Vehicle</th>\n",
       "      <th>Vehicle Collision or Pedestrian Struck (with Fatality)</th>\n",
       "      <th>Vehicle Collision or Pedestrian Struck (with Injury)</th>\n",
       "      <th>Break and Enter Commercial</th>\n",
       "      <th>Break and Enter Residential/Other</th>\n",
       "      <th>Homicide</th>\n",
       "      <th>Mischief</th>\n",
       "      <th>Offence Against a Person</th>\n",
       "      <th>Other Theft</th>\n",
       "      <th>Total</th>\n",
       "    </tr>\n",
       "  </thead>\n",
       "  <tbody>\n",
       "    <tr>\n",
       "      <th>0</th>\n",
       "      <td>ChristmasEve</td>\n",
       "      <td>453</td>\n",
       "      <td>16</td>\n",
       "      <td>85</td>\n",
       "      <td>1.0</td>\n",
       "      <td>40</td>\n",
       "      <td>112</td>\n",
       "      <td>133</td>\n",
       "      <td>NaN</td>\n",
       "      <td>180</td>\n",
       "      <td>163</td>\n",
       "      <td>203</td>\n",
       "      <td>1386</td>\n",
       "    </tr>\n",
       "    <tr>\n",
       "      <th>1</th>\n",
       "      <td>ChristmasDay</td>\n",
       "      <td>583</td>\n",
       "      <td>29</td>\n",
       "      <td>93</td>\n",
       "      <td>NaN</td>\n",
       "      <td>39</td>\n",
       "      <td>119</td>\n",
       "      <td>141</td>\n",
       "      <td>NaN</td>\n",
       "      <td>212</td>\n",
       "      <td>137</td>\n",
       "      <td>437</td>\n",
       "      <td>1790</td>\n",
       "    </tr>\n",
       "    <tr>\n",
       "      <th>2</th>\n",
       "      <td>NewyearsEve</td>\n",
       "      <td>656</td>\n",
       "      <td>29</td>\n",
       "      <td>94</td>\n",
       "      <td>NaN</td>\n",
       "      <td>51</td>\n",
       "      <td>149</td>\n",
       "      <td>208</td>\n",
       "      <td>1.0</td>\n",
       "      <td>295</td>\n",
       "      <td>198</td>\n",
       "      <td>501</td>\n",
       "      <td>2182</td>\n",
       "    </tr>\n",
       "    <tr>\n",
       "      <th>3</th>\n",
       "      <td>NewyYearsDay</td>\n",
       "      <td>731</td>\n",
       "      <td>72</td>\n",
       "      <td>121</td>\n",
       "      <td>NaN</td>\n",
       "      <td>61</td>\n",
       "      <td>129</td>\n",
       "      <td>197</td>\n",
       "      <td>1.0</td>\n",
       "      <td>387</td>\n",
       "      <td>683</td>\n",
       "      <td>578</td>\n",
       "      <td>2960</td>\n",
       "    </tr>\n",
       "    <tr>\n",
       "      <th>4</th>\n",
       "      <td>CanadaDay</td>\n",
       "      <td>614</td>\n",
       "      <td>174</td>\n",
       "      <td>140</td>\n",
       "      <td>2.0</td>\n",
       "      <td>64</td>\n",
       "      <td>106</td>\n",
       "      <td>202</td>\n",
       "      <td>1.0</td>\n",
       "      <td>324</td>\n",
       "      <td>282</td>\n",
       "      <td>581</td>\n",
       "      <td>2490</td>\n",
       "    </tr>\n",
       "    <tr>\n",
       "      <th>5</th>\n",
       "      <td>ValDay</td>\n",
       "      <td>670</td>\n",
       "      <td>52</td>\n",
       "      <td>125</td>\n",
       "      <td>NaN</td>\n",
       "      <td>85</td>\n",
       "      <td>137</td>\n",
       "      <td>208</td>\n",
       "      <td>2.0</td>\n",
       "      <td>246</td>\n",
       "      <td>194</td>\n",
       "      <td>605</td>\n",
       "      <td>2324</td>\n",
       "    </tr>\n",
       "    <tr>\n",
       "      <th>6</th>\n",
       "      <td>Halloween</td>\n",
       "      <td>618</td>\n",
       "      <td>59</td>\n",
       "      <td>125</td>\n",
       "      <td>NaN</td>\n",
       "      <td>74</td>\n",
       "      <td>146</td>\n",
       "      <td>213</td>\n",
       "      <td>2.0</td>\n",
       "      <td>526</td>\n",
       "      <td>254</td>\n",
       "      <td>577</td>\n",
       "      <td>2594</td>\n",
       "    </tr>\n",
       "  </tbody>\n",
       "</table>\n",
       "</div>"
      ],
      "text/plain": [
       "TYPE       Holiday  Theft from Vehicle  Theft of Bicycle  Theft of Vehicle  \\\n",
       "0     ChristmasEve                 453                16                85   \n",
       "1     ChristmasDay                 583                29                93   \n",
       "2      NewyearsEve                 656                29                94   \n",
       "3     NewyYearsDay                 731                72               121   \n",
       "4        CanadaDay                 614               174               140   \n",
       "5           ValDay                 670                52               125   \n",
       "6        Halloween                 618                59               125   \n",
       "\n",
       "TYPE  Vehicle Collision or Pedestrian Struck (with Fatality)  \\\n",
       "0                                                   1.0        \n",
       "1                                                   NaN        \n",
       "2                                                   NaN        \n",
       "3                                                   NaN        \n",
       "4                                                   2.0        \n",
       "5                                                   NaN        \n",
       "6                                                   NaN        \n",
       "\n",
       "TYPE  Vehicle Collision or Pedestrian Struck (with Injury)  \\\n",
       "0                                                    40      \n",
       "1                                                    39      \n",
       "2                                                    51      \n",
       "3                                                    61      \n",
       "4                                                    64      \n",
       "5                                                    85      \n",
       "6                                                    74      \n",
       "\n",
       "TYPE  Break and Enter Commercial  Break and Enter Residential/Other  Homicide  \\\n",
       "0                            112                                133       NaN   \n",
       "1                            119                                141       NaN   \n",
       "2                            149                                208       1.0   \n",
       "3                            129                                197       1.0   \n",
       "4                            106                                202       1.0   \n",
       "5                            137                                208       2.0   \n",
       "6                            146                                213       2.0   \n",
       "\n",
       "TYPE  Mischief  Offence Against a Person  Other Theft  Total  \n",
       "0          180                       163          203   1386  \n",
       "1          212                       137          437   1790  \n",
       "2          295                       198          501   2182  \n",
       "3          387                       683          578   2960  \n",
       "4          324                       282          581   2490  \n",
       "5          246                       194          605   2324  \n",
       "6          526                       254          577   2594  "
      ]
     },
     "metadata": {},
     "output_type": "display_data"
    },
    {
     "data": {
      "text/html": [
       "<div>\n",
       "<style scoped>\n",
       "    .dataframe tbody tr th:only-of-type {\n",
       "        vertical-align: middle;\n",
       "    }\n",
       "\n",
       "    .dataframe tbody tr th {\n",
       "        vertical-align: top;\n",
       "    }\n",
       "\n",
       "    .dataframe thead th {\n",
       "        text-align: right;\n",
       "    }\n",
       "</style>\n",
       "<table border=\"1\" class=\"dataframe\">\n",
       "  <thead>\n",
       "    <tr style=\"text-align: right;\">\n",
       "      <th>TYPE</th>\n",
       "      <th>Holiday</th>\n",
       "      <th>Total</th>\n",
       "      <th>sigDiff</th>\n",
       "    </tr>\n",
       "  </thead>\n",
       "  <tbody>\n",
       "    <tr>\n",
       "      <th>0</th>\n",
       "      <td>ChristmasEve</td>\n",
       "      <td>1386</td>\n",
       "      <td>False</td>\n",
       "    </tr>\n",
       "    <tr>\n",
       "      <th>1</th>\n",
       "      <td>ChristmasDay</td>\n",
       "      <td>1790</td>\n",
       "      <td>False</td>\n",
       "    </tr>\n",
       "    <tr>\n",
       "      <th>2</th>\n",
       "      <td>NewyearsEve</td>\n",
       "      <td>2182</td>\n",
       "      <td>False</td>\n",
       "    </tr>\n",
       "    <tr>\n",
       "      <th>3</th>\n",
       "      <td>NewyYearsDay</td>\n",
       "      <td>2960</td>\n",
       "      <td>True</td>\n",
       "    </tr>\n",
       "    <tr>\n",
       "      <th>4</th>\n",
       "      <td>CanadaDay</td>\n",
       "      <td>2490</td>\n",
       "      <td>False</td>\n",
       "    </tr>\n",
       "    <tr>\n",
       "      <th>5</th>\n",
       "      <td>ValDay</td>\n",
       "      <td>2324</td>\n",
       "      <td>False</td>\n",
       "    </tr>\n",
       "    <tr>\n",
       "      <th>6</th>\n",
       "      <td>Halloween</td>\n",
       "      <td>2594</td>\n",
       "      <td>True</td>\n",
       "    </tr>\n",
       "  </tbody>\n",
       "</table>\n",
       "</div>"
      ],
      "text/plain": [
       "TYPE       Holiday  Total  sigDiff\n",
       "0     ChristmasEve   1386    False\n",
       "1     ChristmasDay   1790    False\n",
       "2      NewyearsEve   2182    False\n",
       "3     NewyYearsDay   2960     True\n",
       "4        CanadaDay   2490    False\n",
       "5           ValDay   2324    False\n",
       "6        Halloween   2594     True"
      ]
     },
     "metadata": {},
     "output_type": "display_data"
    }
   ],
   "source": [
    "import math\n",
    "\n",
    "\n",
    "file = '../data/raw/crimedata_csv_all_years.csv'\n",
    "def Holidays(Holidays,day,month,file):\n",
    "    df = load_and_process(day, month, file)\n",
    "    df = Make_To_Table(df)\n",
    "    df = df.assign(Holiday = Holidays)\n",
    "    return df\n",
    "    \n",
    "def mrg(list):\n",
    "    for x in range(len(list)):\n",
    "        if x == 0:\n",
    "            df = list[x]\n",
    "        else: \n",
    "           df = pd.merge(df,list[x], how = \"outer\") \n",
    "    df = df[['Holiday', 'Theft from Vehicle', 'Theft of Bicycle', 'Theft of Vehicle',\n",
    "       'Vehicle Collision or Pedestrian Struck (with Fatality)',\n",
    "       'Vehicle Collision or Pedestrian Struck (with Injury)',\n",
    "       'Break and Enter Commercial', 'Break and Enter Residential/Other',\n",
    "       'Homicide', 'Mischief', 'Offence Against a Person', 'Other Theft', \"Total\"]]\n",
    "    return df\n",
    "    \n",
    "\n",
    "chisEve = Holidays('ChristmasEve', 25,12, file)\n",
    "chisDay = Holidays('ChristmasDay', 26,12, file)\n",
    "NewEve = Holidays('NewyearsEve', 31,12, file)\n",
    "NewDay =Holidays('NewyYearsDay', 1 ,1, file) \n",
    "CanDay =Holidays('CanadaDay', 1 ,7, file)\n",
    "ValDay = Holidays('ValDay', 14 ,2, file) \n",
    "Halloween =Holidays('Halloween',31, 10,file)\n",
    "list = [chisEve,chisDay,NewEve,NewDay,CanDay,ValDay,Halloween]\n",
    "\n",
    "Hcrim = mrg(list)\n",
    "display(Hcrim)\n",
    "SigDifference = Find_sig(Hcrim,df1Std,df1Mean)\n",
    "display(SigDifference)\n",
    "\n",
    "\n"
   ]
  }
 ],
 "metadata": {
  "kernelspec": {
   "display_name": "Python 3.10.7 64-bit",
   "language": "python",
   "name": "python3"
  },
  "language_info": {
   "codemirror_mode": {
    "name": "ipython",
    "version": 3
   },
   "file_extension": ".py",
   "mimetype": "text/x-python",
   "name": "python",
   "nbconvert_exporter": "python",
   "pygments_lexer": "ipython3",
   "version": "3.10.7"
  },
  "vscode": {
   "interpreter": {
    "hash": "aee8b7b246df8f9039afb4144a1f6fd8d2ca17a180786b69acc140d282b71a49"
   }
  }
 },
 "nbformat": 4,
 "nbformat_minor": 5
}

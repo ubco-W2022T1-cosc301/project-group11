{
 "cells": [
  {
   "cell_type": "markdown",
   "id": "99ce7e8b",
   "metadata": {},
   "source": [
    "# Ken Woon's Notebook"
   ]
  },
  {
   "cell_type": "markdown",
   "id": "2abb45f8",
   "metadata": {},
   "source": [
    "## Dataset Overview"
   ]
  },
  {
   "cell_type": "code",
   "execution_count": 104,
   "id": "a219e931",
   "metadata": {},
   "outputs": [
    {
     "data": {
      "text/html": [
       "<div>\n",
       "<style scoped>\n",
       "    .dataframe tbody tr th:only-of-type {\n",
       "        vertical-align: middle;\n",
       "    }\n",
       "\n",
       "    .dataframe tbody tr th {\n",
       "        vertical-align: top;\n",
       "    }\n",
       "\n",
       "    .dataframe thead th {\n",
       "        text-align: right;\n",
       "    }\n",
       "</style>\n",
       "<table border=\"1\" class=\"dataframe\">\n",
       "  <thead>\n",
       "    <tr style=\"text-align: right;\">\n",
       "      <th></th>\n",
       "      <th>TYPE</th>\n",
       "      <th>YEAR</th>\n",
       "      <th>MONTH</th>\n",
       "      <th>DAY</th>\n",
       "      <th>HOUR</th>\n",
       "      <th>MINUTE</th>\n",
       "      <th>HUNDRED_BLOCK</th>\n",
       "      <th>NEIGHBOURHOOD</th>\n",
       "      <th>X</th>\n",
       "      <th>Y</th>\n",
       "    </tr>\n",
       "  </thead>\n",
       "  <tbody>\n",
       "    <tr>\n",
       "      <th>0</th>\n",
       "      <td>Theft from Vehicle</td>\n",
       "      <td>2006</td>\n",
       "      <td>3</td>\n",
       "      <td>4</td>\n",
       "      <td>20</td>\n",
       "      <td>30</td>\n",
       "      <td>DAVIE ST / HOWE ST</td>\n",
       "      <td>Central Business District</td>\n",
       "      <td>490748.5904</td>\n",
       "      <td>5.458346e+06</td>\n",
       "    </tr>\n",
       "    <tr>\n",
       "      <th>1</th>\n",
       "      <td>Theft from Vehicle</td>\n",
       "      <td>2006</td>\n",
       "      <td>3</td>\n",
       "      <td>5</td>\n",
       "      <td>11</td>\n",
       "      <td>30</td>\n",
       "      <td>DAVIE ST / HOWE ST</td>\n",
       "      <td>Central Business District</td>\n",
       "      <td>490748.5904</td>\n",
       "      <td>5.458346e+06</td>\n",
       "    </tr>\n",
       "    <tr>\n",
       "      <th>2</th>\n",
       "      <td>Theft from Vehicle</td>\n",
       "      <td>2006</td>\n",
       "      <td>4</td>\n",
       "      <td>16</td>\n",
       "      <td>0</td>\n",
       "      <td>1</td>\n",
       "      <td>DAVIE ST / HOWE ST</td>\n",
       "      <td>Central Business District</td>\n",
       "      <td>490748.5904</td>\n",
       "      <td>5.458346e+06</td>\n",
       "    </tr>\n",
       "    <tr>\n",
       "      <th>3</th>\n",
       "      <td>Theft from Vehicle</td>\n",
       "      <td>2006</td>\n",
       "      <td>6</td>\n",
       "      <td>11</td>\n",
       "      <td>17</td>\n",
       "      <td>45</td>\n",
       "      <td>DAVIE ST / HOWE ST</td>\n",
       "      <td>Central Business District</td>\n",
       "      <td>490748.5904</td>\n",
       "      <td>5.458346e+06</td>\n",
       "    </tr>\n",
       "    <tr>\n",
       "      <th>4</th>\n",
       "      <td>Theft from Vehicle</td>\n",
       "      <td>2006</td>\n",
       "      <td>8</td>\n",
       "      <td>5</td>\n",
       "      <td>20</td>\n",
       "      <td>0</td>\n",
       "      <td>DAVIE ST / HOWE ST</td>\n",
       "      <td>Central Business District</td>\n",
       "      <td>490748.5904</td>\n",
       "      <td>5.458346e+06</td>\n",
       "    </tr>\n",
       "    <tr>\n",
       "      <th>...</th>\n",
       "      <td>...</td>\n",
       "      <td>...</td>\n",
       "      <td>...</td>\n",
       "      <td>...</td>\n",
       "      <td>...</td>\n",
       "      <td>...</td>\n",
       "      <td>...</td>\n",
       "      <td>...</td>\n",
       "      <td>...</td>\n",
       "      <td>...</td>\n",
       "    </tr>\n",
       "    <tr>\n",
       "      <th>793911</th>\n",
       "      <td>Theft from Vehicle</td>\n",
       "      <td>2005</td>\n",
       "      <td>3</td>\n",
       "      <td>9</td>\n",
       "      <td>21</td>\n",
       "      <td>30</td>\n",
       "      <td>DAVIE ST / HOWE ST</td>\n",
       "      <td>Central Business District</td>\n",
       "      <td>490748.5904</td>\n",
       "      <td>5.458346e+06</td>\n",
       "    </tr>\n",
       "    <tr>\n",
       "      <th>793912</th>\n",
       "      <td>Theft from Vehicle</td>\n",
       "      <td>2005</td>\n",
       "      <td>6</td>\n",
       "      <td>5</td>\n",
       "      <td>23</td>\n",
       "      <td>0</td>\n",
       "      <td>DAVIE ST / HOWE ST</td>\n",
       "      <td>Central Business District</td>\n",
       "      <td>490748.5904</td>\n",
       "      <td>5.458346e+06</td>\n",
       "    </tr>\n",
       "    <tr>\n",
       "      <th>793913</th>\n",
       "      <td>Theft from Vehicle</td>\n",
       "      <td>2005</td>\n",
       "      <td>8</td>\n",
       "      <td>1</td>\n",
       "      <td>22</td>\n",
       "      <td>0</td>\n",
       "      <td>DAVIE ST / HOWE ST</td>\n",
       "      <td>Central Business District</td>\n",
       "      <td>490748.5904</td>\n",
       "      <td>5.458346e+06</td>\n",
       "    </tr>\n",
       "    <tr>\n",
       "      <th>793914</th>\n",
       "      <td>Theft from Vehicle</td>\n",
       "      <td>2005</td>\n",
       "      <td>12</td>\n",
       "      <td>14</td>\n",
       "      <td>0</td>\n",
       "      <td>0</td>\n",
       "      <td>DAVIE ST / HOWE ST</td>\n",
       "      <td>Central Business District</td>\n",
       "      <td>490748.5904</td>\n",
       "      <td>5.458346e+06</td>\n",
       "    </tr>\n",
       "    <tr>\n",
       "      <th>793915</th>\n",
       "      <td>Theft from Vehicle</td>\n",
       "      <td>2005</td>\n",
       "      <td>12</td>\n",
       "      <td>26</td>\n",
       "      <td>22</td>\n",
       "      <td>0</td>\n",
       "      <td>DAVIE ST / HOWE ST</td>\n",
       "      <td>Central Business District</td>\n",
       "      <td>490748.5904</td>\n",
       "      <td>5.458346e+06</td>\n",
       "    </tr>\n",
       "  </tbody>\n",
       "</table>\n",
       "<p>793916 rows × 10 columns</p>\n",
       "</div>"
      ],
      "text/plain": [
       "                      TYPE  YEAR  MONTH  DAY  HOUR  MINUTE  \\\n",
       "0       Theft from Vehicle  2006      3    4    20      30   \n",
       "1       Theft from Vehicle  2006      3    5    11      30   \n",
       "2       Theft from Vehicle  2006      4   16     0       1   \n",
       "3       Theft from Vehicle  2006      6   11    17      45   \n",
       "4       Theft from Vehicle  2006      8    5    20       0   \n",
       "...                    ...   ...    ...  ...   ...     ...   \n",
       "793911  Theft from Vehicle  2005      3    9    21      30   \n",
       "793912  Theft from Vehicle  2005      6    5    23       0   \n",
       "793913  Theft from Vehicle  2005      8    1    22       0   \n",
       "793914  Theft from Vehicle  2005     12   14     0       0   \n",
       "793915  Theft from Vehicle  2005     12   26    22       0   \n",
       "\n",
       "             HUNDRED_BLOCK              NEIGHBOURHOOD            X  \\\n",
       "0       DAVIE ST / HOWE ST  Central Business District  490748.5904   \n",
       "1       DAVIE ST / HOWE ST  Central Business District  490748.5904   \n",
       "2       DAVIE ST / HOWE ST  Central Business District  490748.5904   \n",
       "3       DAVIE ST / HOWE ST  Central Business District  490748.5904   \n",
       "4       DAVIE ST / HOWE ST  Central Business District  490748.5904   \n",
       "...                    ...                        ...          ...   \n",
       "793911  DAVIE ST / HOWE ST  Central Business District  490748.5904   \n",
       "793912  DAVIE ST / HOWE ST  Central Business District  490748.5904   \n",
       "793913  DAVIE ST / HOWE ST  Central Business District  490748.5904   \n",
       "793914  DAVIE ST / HOWE ST  Central Business District  490748.5904   \n",
       "793915  DAVIE ST / HOWE ST  Central Business District  490748.5904   \n",
       "\n",
       "                   Y  \n",
       "0       5.458346e+06  \n",
       "1       5.458346e+06  \n",
       "2       5.458346e+06  \n",
       "3       5.458346e+06  \n",
       "4       5.458346e+06  \n",
       "...              ...  \n",
       "793911  5.458346e+06  \n",
       "793912  5.458346e+06  \n",
       "793913  5.458346e+06  \n",
       "793914  5.458346e+06  \n",
       "793915  5.458346e+06  \n",
       "\n",
       "[793916 rows x 10 columns]"
      ]
     },
     "metadata": {},
     "output_type": "display_data"
    },
    {
     "name": "stdout",
     "output_type": "stream",
     "text": [
      "<class 'pandas.core.frame.DataFrame'>\n",
      "RangeIndex: 793916 entries, 0 to 793915\n",
      "Data columns (total 10 columns):\n",
      " #   Column         Non-Null Count   Dtype  \n",
      "---  ------         --------------   -----  \n",
      " 0   TYPE           793916 non-null  object \n",
      " 1   YEAR           793916 non-null  int64  \n",
      " 2   MONTH          793916 non-null  int64  \n",
      " 3   DAY            793916 non-null  int64  \n",
      " 4   HOUR           793916 non-null  int64  \n",
      " 5   MINUTE         793916 non-null  int64  \n",
      " 6   HUNDRED_BLOCK  793904 non-null  object \n",
      " 7   NEIGHBOURHOOD  793783 non-null  object \n",
      " 8   X              793843 non-null  float64\n",
      " 9   Y              793843 non-null  float64\n",
      "dtypes: float64(2), int64(5), object(3)\n",
      "memory usage: 60.6+ MB\n",
      "None\n"
     ]
    }
   ],
   "source": [
    "#Import required library\n",
    "import pandas as pd\n",
    "\n",
    "#Read CSV file into the variable\n",
    "df = pd.read_csv('../data/raw/crimedata_csv_all_years.csv')\n",
    "\n",
    "#Display the dataset\n",
    "display(df)\n",
    "\n",
    "#Print data info\n",
    "print(df.info())"
   ]
  },
  {
   "cell_type": "code",
   "execution_count": 108,
   "id": "849d1aff",
   "metadata": {},
   "outputs": [],
   "source": [
    "#Set identifier \"TYPE\" as string\n",
    "df['TYPE'] = df['TYPE'].astype('str')\n",
    "\n",
    "#Set categorical data\n",
    "df['HUNDRED_BLOCK'] = df['HUNDRED_BLOCK'].astype('category')\n",
    "df['NEIGHBOURHOOD'] = df['NEIGHBOURHOOD'].astype('category')"
   ]
  },
  {
   "cell_type": "markdown",
   "id": "5eaeab86",
   "metadata": {},
   "source": [
    "## Exploratory Data Analysis"
   ]
  },
  {
   "cell_type": "markdown",
   "id": "ad32a7c9",
   "metadata": {},
   "source": [
    "### 1. Understanding the Variables\n",
    "\n",
    "The dataset for this project is the historical crime data in Vancouver. In order to open the file and start with the analysis, the libraries required are needed to be imported first, which is done below. The CSV file is then read using `pandas` into a variable called `df`."
   ]
  },
  {
   "cell_type": "code",
   "execution_count": 102,
   "id": "21da054d",
   "metadata": {},
   "outputs": [],
   "source": [
    "#Imported all of the libraries that would be needed for the analysis\n",
    "import pandas as pd\n",
    "import numpy as np\n",
    "import matplotlib.pylab as plt\n",
    "import seaborn as sns\n",
    "\n",
    "#Read CSV file into the variable\n",
    "df = pd.read_csv('../data/raw/crimedata_csv_all_years.csv')"
   ]
  },
  {
   "cell_type": "code",
   "execution_count": 5,
   "id": "ecb0a230",
   "metadata": {},
   "outputs": [
    {
     "data": {
      "text/html": [
       "<div>\n",
       "<style scoped>\n",
       "    .dataframe tbody tr th:only-of-type {\n",
       "        vertical-align: middle;\n",
       "    }\n",
       "\n",
       "    .dataframe tbody tr th {\n",
       "        vertical-align: top;\n",
       "    }\n",
       "\n",
       "    .dataframe thead th {\n",
       "        text-align: right;\n",
       "    }\n",
       "</style>\n",
       "<table border=\"1\" class=\"dataframe\">\n",
       "  <thead>\n",
       "    <tr style=\"text-align: right;\">\n",
       "      <th></th>\n",
       "      <th>TYPE</th>\n",
       "      <th>YEAR</th>\n",
       "      <th>MONTH</th>\n",
       "      <th>DAY</th>\n",
       "      <th>HOUR</th>\n",
       "      <th>MINUTE</th>\n",
       "      <th>HUNDRED_BLOCK</th>\n",
       "      <th>NEIGHBOURHOOD</th>\n",
       "      <th>X</th>\n",
       "      <th>Y</th>\n",
       "    </tr>\n",
       "  </thead>\n",
       "  <tbody>\n",
       "    <tr>\n",
       "      <th>0</th>\n",
       "      <td>Theft from Vehicle</td>\n",
       "      <td>2006</td>\n",
       "      <td>3</td>\n",
       "      <td>4</td>\n",
       "      <td>20</td>\n",
       "      <td>30</td>\n",
       "      <td>DAVIE ST / HOWE ST</td>\n",
       "      <td>Central Business District</td>\n",
       "      <td>490748.5904</td>\n",
       "      <td>5.458346e+06</td>\n",
       "    </tr>\n",
       "    <tr>\n",
       "      <th>1</th>\n",
       "      <td>Theft from Vehicle</td>\n",
       "      <td>2006</td>\n",
       "      <td>3</td>\n",
       "      <td>5</td>\n",
       "      <td>11</td>\n",
       "      <td>30</td>\n",
       "      <td>DAVIE ST / HOWE ST</td>\n",
       "      <td>Central Business District</td>\n",
       "      <td>490748.5904</td>\n",
       "      <td>5.458346e+06</td>\n",
       "    </tr>\n",
       "    <tr>\n",
       "      <th>2</th>\n",
       "      <td>Theft from Vehicle</td>\n",
       "      <td>2006</td>\n",
       "      <td>4</td>\n",
       "      <td>16</td>\n",
       "      <td>0</td>\n",
       "      <td>1</td>\n",
       "      <td>DAVIE ST / HOWE ST</td>\n",
       "      <td>Central Business District</td>\n",
       "      <td>490748.5904</td>\n",
       "      <td>5.458346e+06</td>\n",
       "    </tr>\n",
       "    <tr>\n",
       "      <th>3</th>\n",
       "      <td>Theft from Vehicle</td>\n",
       "      <td>2006</td>\n",
       "      <td>6</td>\n",
       "      <td>11</td>\n",
       "      <td>17</td>\n",
       "      <td>45</td>\n",
       "      <td>DAVIE ST / HOWE ST</td>\n",
       "      <td>Central Business District</td>\n",
       "      <td>490748.5904</td>\n",
       "      <td>5.458346e+06</td>\n",
       "    </tr>\n",
       "    <tr>\n",
       "      <th>4</th>\n",
       "      <td>Theft from Vehicle</td>\n",
       "      <td>2006</td>\n",
       "      <td>8</td>\n",
       "      <td>5</td>\n",
       "      <td>20</td>\n",
       "      <td>0</td>\n",
       "      <td>DAVIE ST / HOWE ST</td>\n",
       "      <td>Central Business District</td>\n",
       "      <td>490748.5904</td>\n",
       "      <td>5.458346e+06</td>\n",
       "    </tr>\n",
       "  </tbody>\n",
       "</table>\n",
       "</div>"
      ],
      "text/plain": [
       "                 TYPE  YEAR  MONTH  DAY  HOUR  MINUTE       HUNDRED_BLOCK  \\\n",
       "0  Theft from Vehicle  2006      3    4    20      30  DAVIE ST / HOWE ST   \n",
       "1  Theft from Vehicle  2006      3    5    11      30  DAVIE ST / HOWE ST   \n",
       "2  Theft from Vehicle  2006      4   16     0       1  DAVIE ST / HOWE ST   \n",
       "3  Theft from Vehicle  2006      6   11    17      45  DAVIE ST / HOWE ST   \n",
       "4  Theft from Vehicle  2006      8    5    20       0  DAVIE ST / HOWE ST   \n",
       "\n",
       "               NEIGHBOURHOOD            X             Y  \n",
       "0  Central Business District  490748.5904  5.458346e+06  \n",
       "1  Central Business District  490748.5904  5.458346e+06  \n",
       "2  Central Business District  490748.5904  5.458346e+06  \n",
       "3  Central Business District  490748.5904  5.458346e+06  \n",
       "4  Central Business District  490748.5904  5.458346e+06  "
      ]
     },
     "metadata": {},
     "output_type": "display_data"
    }
   ],
   "source": [
    "#Display first 5 rows of the dataset\n",
    "display(df.head())"
   ]
  },
  {
   "cell_type": "markdown",
   "id": "36ea0778",
   "metadata": {},
   "source": [
    "`.head()` returns the first 5 rows of the dataset. It can be seen that there are 10 columns which are the type of crime, the year, month, day, hour, minute, hundred block, neighbourhood, and the x and y coordinates. It is not certain that these are all the existing columns, thus it will be confirmed right after. From what can be seen, the table only shows `Theft from Vehicle` in the same hundred block, neighbourhood, and x and y coordinates, but at different times. It is not likely for the entire dataset to contain only this type of crime at this location, and will be checked in the analysis section."
   ]
  },
  {
   "cell_type": "code",
   "execution_count": 6,
   "id": "33932857",
   "metadata": {},
   "outputs": [
    {
     "name": "stdout",
     "output_type": "stream",
     "text": [
      "(793916, 10)\n",
      "The number of rows is 793916 and the number of columns is 10\n"
     ]
    }
   ],
   "source": [
    "#Display number of rows and columns\n",
    "print(df.shape)\n",
    "print(f\"The number of rows is {df.shape[0]} and the number of columns is {df.shape[1]}\")"
   ]
  },
  {
   "cell_type": "markdown",
   "id": "feb6bf0d",
   "metadata": {},
   "source": [
    "`.shape` returns the number of rows by the number of columns of the dataset. The output was `(793916, 10)`, meaning that there are 793916 rows and 10 columns in total."
   ]
  },
  {
   "cell_type": "code",
   "execution_count": 7,
   "id": "a76a92ea",
   "metadata": {},
   "outputs": [
    {
     "name": "stdout",
     "output_type": "stream",
     "text": [
      "Index(['TYPE', 'YEAR', 'MONTH', 'DAY', 'HOUR', 'MINUTE', 'HUNDRED_BLOCK',\n",
      "       'NEIGHBOURHOOD', 'X', 'Y'],\n",
      "      dtype='object')\n"
     ]
    }
   ],
   "source": [
    "#Display the name of the columns\n",
    "print(df.columns)"
   ]
  },
  {
   "cell_type": "markdown",
   "id": "ee255088",
   "metadata": {},
   "source": [
    "`.columns` returns the name of all the columns in the dataset. It is confirmed that the table displayed earlier shows all the 10 existing columns with the same name as the ones in this list."
   ]
  },
  {
   "cell_type": "markdown",
   "id": "7b321a15",
   "metadata": {},
   "source": [
    "The next step would be to better understand the values for each variable. `.nunique()` will be used to return the number of unique values for each column. By specifying the column axis, `axis = 0` in this case, the method will search column-wise and return the number of unique values for each row."
   ]
  },
  {
   "cell_type": "code",
   "execution_count": 16,
   "id": "1ad45b77",
   "metadata": {},
   "outputs": [
    {
     "name": "stdout",
     "output_type": "stream",
     "text": [
      "TYPE                 11\n",
      "YEAR                 19\n",
      "MONTH                12\n",
      "DAY                  31\n",
      "HOUR                 24\n",
      "MINUTE               60\n",
      "HUNDRED_BLOCK     22939\n",
      "NEIGHBOURHOOD        24\n",
      "X                139461\n",
      "Y                139296\n",
      "dtype: int64\n"
     ]
    }
   ],
   "source": [
    "#Display number of unique values for each variable\n",
    "print(df.nunique(axis = 0))"
   ]
  },
  {
   "cell_type": "markdown",
   "id": "fe0e2207",
   "metadata": {},
   "source": [
    "It can be seen that there are indeed other types of crimes other than `Theft from Vehicle` as there are more than 1 type. There are 19 years spanned by the data, however, it is not known what the starting and ending year is at the moment. There also seems to be a wide range of areas covered from looking at the number of hundred blocks and neighbourhood present in the data."
   ]
  },
  {
   "cell_type": "code",
   "execution_count": 17,
   "id": "de01df1b",
   "metadata": {},
   "outputs": [
    {
     "data": {
      "text/html": [
       "<div>\n",
       "<style scoped>\n",
       "    .dataframe tbody tr th:only-of-type {\n",
       "        vertical-align: middle;\n",
       "    }\n",
       "\n",
       "    .dataframe tbody tr th {\n",
       "        vertical-align: top;\n",
       "    }\n",
       "\n",
       "    .dataframe thead th {\n",
       "        text-align: right;\n",
       "    }\n",
       "</style>\n",
       "<table border=\"1\" class=\"dataframe\">\n",
       "  <thead>\n",
       "    <tr style=\"text-align: right;\">\n",
       "      <th></th>\n",
       "      <th>YEAR</th>\n",
       "      <th>MONTH</th>\n",
       "      <th>DAY</th>\n",
       "      <th>HOUR</th>\n",
       "      <th>MINUTE</th>\n",
       "      <th>X</th>\n",
       "      <th>Y</th>\n",
       "    </tr>\n",
       "  </thead>\n",
       "  <tbody>\n",
       "    <tr>\n",
       "      <th>count</th>\n",
       "      <td>793916.000000</td>\n",
       "      <td>793916.000000</td>\n",
       "      <td>793916.000000</td>\n",
       "      <td>793916.000000</td>\n",
       "      <td>793916.000000</td>\n",
       "      <td>793843.000000</td>\n",
       "      <td>793843.000000</td>\n",
       "    </tr>\n",
       "    <tr>\n",
       "      <th>mean</th>\n",
       "      <td>2011.189500</td>\n",
       "      <td>6.494100</td>\n",
       "      <td>15.394095</td>\n",
       "      <td>12.397745</td>\n",
       "      <td>15.711429</td>\n",
       "      <td>450191.835386</td>\n",
       "      <td>4991158.124679</td>\n",
       "    </tr>\n",
       "    <tr>\n",
       "      <th>std</th>\n",
       "      <td>5.528776</td>\n",
       "      <td>3.417018</td>\n",
       "      <td>8.757672</td>\n",
       "      <td>7.445387</td>\n",
       "      <td>18.302254</td>\n",
       "      <td>137534.630035</td>\n",
       "      <td>1524555.068773</td>\n",
       "    </tr>\n",
       "    <tr>\n",
       "      <th>min</th>\n",
       "      <td>2003.000000</td>\n",
       "      <td>1.000000</td>\n",
       "      <td>1.000000</td>\n",
       "      <td>0.000000</td>\n",
       "      <td>0.000000</td>\n",
       "      <td>0.000000</td>\n",
       "      <td>0.000000</td>\n",
       "    </tr>\n",
       "    <tr>\n",
       "      <th>25%</th>\n",
       "      <td>2006.000000</td>\n",
       "      <td>4.000000</td>\n",
       "      <td>8.000000</td>\n",
       "      <td>7.000000</td>\n",
       "      <td>0.000000</td>\n",
       "      <td>490179.610700</td>\n",
       "      <td>5454241.958800</td>\n",
       "    </tr>\n",
       "    <tr>\n",
       "      <th>50%</th>\n",
       "      <td>2011.000000</td>\n",
       "      <td>7.000000</td>\n",
       "      <td>15.000000</td>\n",
       "      <td>14.000000</td>\n",
       "      <td>5.000000</td>\n",
       "      <td>491556.822500</td>\n",
       "      <td>5457160.397300</td>\n",
       "    </tr>\n",
       "    <tr>\n",
       "      <th>75%</th>\n",
       "      <td>2016.000000</td>\n",
       "      <td>9.000000</td>\n",
       "      <td>23.000000</td>\n",
       "      <td>19.000000</td>\n",
       "      <td>30.000000</td>\n",
       "      <td>493389.994600</td>\n",
       "      <td>5458717.612400</td>\n",
       "    </tr>\n",
       "    <tr>\n",
       "      <th>max</th>\n",
       "      <td>2021.000000</td>\n",
       "      <td>12.000000</td>\n",
       "      <td>31.000000</td>\n",
       "      <td>23.000000</td>\n",
       "      <td>59.000000</td>\n",
       "      <td>511303.000000</td>\n",
       "      <td>5512579.000000</td>\n",
       "    </tr>\n",
       "  </tbody>\n",
       "</table>\n",
       "</div>"
      ],
      "text/plain": [
       "                YEAR          MONTH            DAY           HOUR  \\\n",
       "count  793916.000000  793916.000000  793916.000000  793916.000000   \n",
       "mean     2011.189500       6.494100      15.394095      12.397745   \n",
       "std         5.528776       3.417018       8.757672       7.445387   \n",
       "min      2003.000000       1.000000       1.000000       0.000000   \n",
       "25%      2006.000000       4.000000       8.000000       7.000000   \n",
       "50%      2011.000000       7.000000      15.000000      14.000000   \n",
       "75%      2016.000000       9.000000      23.000000      19.000000   \n",
       "max      2021.000000      12.000000      31.000000      23.000000   \n",
       "\n",
       "              MINUTE              X               Y  \n",
       "count  793916.000000  793843.000000   793843.000000  \n",
       "mean       15.711429  450191.835386  4991158.124679  \n",
       "std        18.302254  137534.630035  1524555.068773  \n",
       "min         0.000000       0.000000        0.000000  \n",
       "25%         0.000000  490179.610700  5454241.958800  \n",
       "50%         5.000000  491556.822500  5457160.397300  \n",
       "75%        30.000000  493389.994600  5458717.612400  \n",
       "max        59.000000  511303.000000  5512579.000000  "
      ]
     },
     "execution_count": 17,
     "metadata": {},
     "output_type": "execute_result"
    }
   ],
   "source": [
    "#Display summary of numerical variables\n",
    "df.describe().apply(lambda s: s.apply(lambda x: format(x, 'f')))"
   ]
  },
  {
   "cell_type": "markdown",
   "id": "55101735",
   "metadata": {},
   "source": [
    "`.describe()` displays a summary of the count, mean, standard deviation, minimum, 25%, 50%, 75% , and maximum of the values for each numeric variable. The code that follows formats each row and supresses scientific notation. From this output, it can be deduced that the dataset spans the years 2003 to 2021 with crimes occuring at a mean hour during 12 noon. The other values despite being a good indication for the expectation of each variables, do not give much useful information and thus will be further explored later. The table is also exclusive to numerical variables, meaning that the information about string variables are not provided."
   ]
  },
  {
   "cell_type": "code",
   "execution_count": 18,
   "id": "a14e462d",
   "metadata": {},
   "outputs": [
    {
     "name": "stdout",
     "output_type": "stream",
     "text": [
      "['Theft from Vehicle' 'Theft of Bicycle' 'Theft of Vehicle'\n",
      " 'Vehicle Collision or Pedestrian Struck (with Fatality)'\n",
      " 'Vehicle Collision or Pedestrian Struck (with Injury)'\n",
      " 'Break and Enter Commercial' 'Break and Enter Residential/Other'\n",
      " 'Homicide' 'Mischief' 'Offence Against a Person' 'Other Theft']\n",
      "['DAVIE ST / HOWE ST' 'DAVIE ST / JERVIS ST' 'DAVIE ST / MAINLAND ST' ...\n",
      " 'CYPRESS ST / W 54TH AVE' 'CYPRESS ST / W 57TH AVE'\n",
      " 'CYPRESS ST / W BROADWAY AV']\n",
      "['Central Business District' 'West End' 'Shaughnessy'\n",
      " 'Renfrew-Collingwood' 'West Point Grey' 'Dunbar-Southlands' 'Killarney'\n",
      " 'Victoria-Fraserview' 'Kensington-Cedar Cottage' 'Kerrisdale' 'Kitsilano'\n",
      " 'Grandview-Woodland' 'Hastings-Sunrise' 'Strathcona' 'Fairview'\n",
      " 'Riley Park' 'Mount Pleasant' 'Sunset' 'Oakridge' 'Marpole'\n",
      " 'Arbutus Ridge' 'South Cambie' 'Musqueam' 'Stanley Park' nan]\n"
     ]
    }
   ],
   "source": [
    "#Display unique values for TYPE column\n",
    "print(df.TYPE.unique())\n",
    "\n",
    "#Display unique values for HUNDRED_BLOCK column\n",
    "print(df.HUNDRED_BLOCK.unique())\n",
    "\n",
    "#Display unique values for NEIGHBOURHOOD column\n",
    "print(df.NEIGHBOURHOOD.unique())"
   ]
  },
  {
   "cell_type": "markdown",
   "id": "87c6a7dd",
   "metadata": {},
   "source": [
    "`.unique()` is used on the discrete variables to show each of their unique values in the columns. From the previous results, it is known that there are 11 types of different values for the type of crimes. There are indeed 11 unique strings shown in the block above. Only a handful of the hundred block is printed due to the overwhelming number of 22939 unique values. All the 24 neighbourhood values are displayed alongside as well."
   ]
  },
  {
   "cell_type": "markdown",
   "id": "a6fa9af3",
   "metadata": {},
   "source": [
    "### 2. Cleaning the Dataset\n",
    "\n",
    "The objective of this section is to clean the dataset in order to avoid any misleading data and to remove unused blocks. The procedure would be to remove redundant variables, make a better variable selection, remove outliers, and removing null value rows."
   ]
  },
  {
   "cell_type": "markdown",
   "id": "c946d502",
   "metadata": {},
   "source": [
    "Although having more information may seem better at first glance, there are times when too much information becomes too distracting. The research questions that would be explored further in this analysis are **\"At what times do the crimes occur the most?\"** and **\"Which years had the most criminal cases, and why is it so?\"**. In this case, as there would be a heavy emphasis on time and date, and less on location, the variables that contain information about the crime locations become redundant. These include the hundred block, neighbourhood, x, and y columns specifically. All these columns will be removed below."
   ]
  },
  {
   "cell_type": "code",
   "execution_count": 87,
   "id": "fa3478cb",
   "metadata": {},
   "outputs": [
    {
     "data": {
      "text/html": [
       "<div>\n",
       "<style scoped>\n",
       "    .dataframe tbody tr th:only-of-type {\n",
       "        vertical-align: middle;\n",
       "    }\n",
       "\n",
       "    .dataframe tbody tr th {\n",
       "        vertical-align: top;\n",
       "    }\n",
       "\n",
       "    .dataframe thead th {\n",
       "        text-align: right;\n",
       "    }\n",
       "</style>\n",
       "<table border=\"1\" class=\"dataframe\">\n",
       "  <thead>\n",
       "    <tr style=\"text-align: right;\">\n",
       "      <th></th>\n",
       "      <th>TYPE</th>\n",
       "      <th>YEAR</th>\n",
       "      <th>MONTH</th>\n",
       "      <th>DAY</th>\n",
       "      <th>HOUR</th>\n",
       "      <th>MINUTE</th>\n",
       "    </tr>\n",
       "  </thead>\n",
       "  <tbody>\n",
       "    <tr>\n",
       "      <th>0</th>\n",
       "      <td>Theft from Vehicle</td>\n",
       "      <td>2006</td>\n",
       "      <td>3</td>\n",
       "      <td>4</td>\n",
       "      <td>20</td>\n",
       "      <td>30</td>\n",
       "    </tr>\n",
       "    <tr>\n",
       "      <th>1</th>\n",
       "      <td>Theft from Vehicle</td>\n",
       "      <td>2006</td>\n",
       "      <td>3</td>\n",
       "      <td>5</td>\n",
       "      <td>11</td>\n",
       "      <td>30</td>\n",
       "    </tr>\n",
       "    <tr>\n",
       "      <th>2</th>\n",
       "      <td>Theft from Vehicle</td>\n",
       "      <td>2006</td>\n",
       "      <td>4</td>\n",
       "      <td>16</td>\n",
       "      <td>0</td>\n",
       "      <td>1</td>\n",
       "    </tr>\n",
       "    <tr>\n",
       "      <th>3</th>\n",
       "      <td>Theft from Vehicle</td>\n",
       "      <td>2006</td>\n",
       "      <td>6</td>\n",
       "      <td>11</td>\n",
       "      <td>17</td>\n",
       "      <td>45</td>\n",
       "    </tr>\n",
       "    <tr>\n",
       "      <th>4</th>\n",
       "      <td>Theft from Vehicle</td>\n",
       "      <td>2006</td>\n",
       "      <td>8</td>\n",
       "      <td>5</td>\n",
       "      <td>20</td>\n",
       "      <td>0</td>\n",
       "    </tr>\n",
       "  </tbody>\n",
       "</table>\n",
       "</div>"
      ],
      "text/plain": [
       "                 TYPE  YEAR  MONTH  DAY  HOUR  MINUTE\n",
       "0  Theft from Vehicle  2006      3    4    20      30\n",
       "1  Theft from Vehicle  2006      3    5    11      30\n",
       "2  Theft from Vehicle  2006      4   16     0       1\n",
       "3  Theft from Vehicle  2006      6   11    17      45\n",
       "4  Theft from Vehicle  2006      8    5    20       0"
      ]
     },
     "execution_count": 87,
     "metadata": {},
     "output_type": "execute_result"
    }
   ],
   "source": [
    "#Drop the specified columns on a copy and assign it to a new variable\n",
    "df_cleaned = df.copy().drop(['HUNDRED_BLOCK', 'NEIGHBOURHOOD', 'X', 'Y'], axis = 1)\n",
    "\n",
    "#Display first 5 rows of the new dataset\n",
    "df_cleaned.head()"
   ]
  },
  {
   "cell_type": "markdown",
   "id": "404bee10",
   "metadata": {},
   "source": [
    "The following step is to remove any columns that have enough null values that may affect the analysis results later. The code below checks if any null values exist in the dataset."
   ]
  },
  {
   "cell_type": "code",
   "execution_count": 74,
   "id": "a06c9d5a",
   "metadata": {},
   "outputs": [
    {
     "data": {
      "text/plain": [
       "False"
      ]
     },
     "execution_count": 74,
     "metadata": {},
     "output_type": "execute_result"
    }
   ],
   "source": [
    "#Check for any existing null value\n",
    "df_cleaned.isnull().values.any()"
   ]
  },
  {
   "cell_type": "markdown",
   "id": "23faac85",
   "metadata": {},
   "source": [
    "As there are no null values in the data, this dataset cleaning step can be skipped."
   ]
  },
  {
   "cell_type": "markdown",
   "id": "5b233e6b",
   "metadata": {},
   "source": [
    "Next would be to check for any outlier values. From the `.describe()` block, it shows that the range of values for month, day, and hour are 1-12, 1-31, and 0-23 respectively. These ranges are as expected for their respective variables, thus there are no outliers to be deleted. Another important factor to consider is the range of datetime covered by each year. As it is required for all the years to cover cases reported from January to December for an equal data distribution, the start and end date for this dataset have to be validated. In order to do this, a new column will be added called 'datetime', and from this column, the maximum and minimum value can be obtained."
   ]
  },
  {
   "cell_type": "code",
   "execution_count": 88,
   "id": "a2bba709",
   "metadata": {},
   "outputs": [
    {
     "name": "stdout",
     "output_type": "stream",
     "text": [
      "The earliest reported criminal case was: 2003-01-01 00:00:00\n",
      "The latest reported criminal case was: 2021-05-14 16:22:00\n"
     ]
    }
   ],
   "source": [
    "#Make temp dataframe\n",
    "df_dt = df_cleaned.copy().drop(['TYPE'], axis = 1)\n",
    "\n",
    "#Get datetime and add to original dataframe as a new column\n",
    "df_cleaned['DATETIME'] = pd.to_datetime(df_dt)\n",
    "\n",
    "#Print max and min datetime\n",
    "print(f'''The earliest reported criminal case was: {df_cleaned[\"DATETIME\"].min()}\n",
    "The latest reported criminal case was: {df_cleaned[\"DATETIME\"].max()}''')"
   ]
  },
  {
   "cell_type": "markdown",
   "id": "3eb32955",
   "metadata": {},
   "source": [
    "The output shows that the dataset starts from the beginning of 2003 but stops midway through 2021. For a more equally distributed data, all values from 2021 will be removed."
   ]
  },
  {
   "cell_type": "code",
   "execution_count": 92,
   "id": "f8a2cbab",
   "metadata": {},
   "outputs": [
    {
     "data": {
      "text/html": [
       "<div>\n",
       "<style scoped>\n",
       "    .dataframe tbody tr th:only-of-type {\n",
       "        vertical-align: middle;\n",
       "    }\n",
       "\n",
       "    .dataframe tbody tr th {\n",
       "        vertical-align: top;\n",
       "    }\n",
       "\n",
       "    .dataframe thead th {\n",
       "        text-align: right;\n",
       "    }\n",
       "</style>\n",
       "<table border=\"1\" class=\"dataframe\">\n",
       "  <thead>\n",
       "    <tr style=\"text-align: right;\">\n",
       "      <th></th>\n",
       "      <th>TYPE</th>\n",
       "      <th>YEAR</th>\n",
       "      <th>MONTH</th>\n",
       "      <th>DAY</th>\n",
       "      <th>HOUR</th>\n",
       "      <th>MINUTE</th>\n",
       "      <th>DATETIME</th>\n",
       "    </tr>\n",
       "  </thead>\n",
       "  <tbody>\n",
       "    <tr>\n",
       "      <th>380033</th>\n",
       "      <td>Offence Against a Person</td>\n",
       "      <td>2003</td>\n",
       "      <td>1</td>\n",
       "      <td>1</td>\n",
       "      <td>0</td>\n",
       "      <td>0</td>\n",
       "      <td>2003-01-01 00:00:00</td>\n",
       "    </tr>\n",
       "    <tr>\n",
       "      <th>237038</th>\n",
       "      <td>Break and Enter Residential/Other</td>\n",
       "      <td>2003</td>\n",
       "      <td>1</td>\n",
       "      <td>1</td>\n",
       "      <td>0</td>\n",
       "      <td>0</td>\n",
       "      <td>2003-01-01 00:00:00</td>\n",
       "    </tr>\n",
       "    <tr>\n",
       "      <th>504270</th>\n",
       "      <td>Other Theft</td>\n",
       "      <td>2003</td>\n",
       "      <td>1</td>\n",
       "      <td>1</td>\n",
       "      <td>0</td>\n",
       "      <td>0</td>\n",
       "      <td>2003-01-01 00:00:00</td>\n",
       "    </tr>\n",
       "    <tr>\n",
       "      <th>368861</th>\n",
       "      <td>Offence Against a Person</td>\n",
       "      <td>2003</td>\n",
       "      <td>1</td>\n",
       "      <td>1</td>\n",
       "      <td>0</td>\n",
       "      <td>0</td>\n",
       "      <td>2003-01-01 00:00:00</td>\n",
       "    </tr>\n",
       "    <tr>\n",
       "      <th>38136</th>\n",
       "      <td>Theft of Bicycle</td>\n",
       "      <td>2003</td>\n",
       "      <td>1</td>\n",
       "      <td>1</td>\n",
       "      <td>0</td>\n",
       "      <td>0</td>\n",
       "      <td>2003-01-01 00:00:00</td>\n",
       "    </tr>\n",
       "    <tr>\n",
       "      <th>...</th>\n",
       "      <td>...</td>\n",
       "      <td>...</td>\n",
       "      <td>...</td>\n",
       "      <td>...</td>\n",
       "      <td>...</td>\n",
       "      <td>...</td>\n",
       "      <td>...</td>\n",
       "    </tr>\n",
       "    <tr>\n",
       "      <th>39236</th>\n",
       "      <td>Theft of Bicycle</td>\n",
       "      <td>2020</td>\n",
       "      <td>12</td>\n",
       "      <td>31</td>\n",
       "      <td>22</td>\n",
       "      <td>0</td>\n",
       "      <td>2020-12-31 22:00:00</td>\n",
       "    </tr>\n",
       "    <tr>\n",
       "      <th>212466</th>\n",
       "      <td>Break and Enter Residential/Other</td>\n",
       "      <td>2020</td>\n",
       "      <td>12</td>\n",
       "      <td>31</td>\n",
       "      <td>22</td>\n",
       "      <td>30</td>\n",
       "      <td>2020-12-31 22:30:00</td>\n",
       "    </tr>\n",
       "    <tr>\n",
       "      <th>281035</th>\n",
       "      <td>Mischief</td>\n",
       "      <td>2020</td>\n",
       "      <td>12</td>\n",
       "      <td>31</td>\n",
       "      <td>22</td>\n",
       "      <td>46</td>\n",
       "      <td>2020-12-31 22:46:00</td>\n",
       "    </tr>\n",
       "    <tr>\n",
       "      <th>716545</th>\n",
       "      <td>Theft from Vehicle</td>\n",
       "      <td>2020</td>\n",
       "      <td>12</td>\n",
       "      <td>31</td>\n",
       "      <td>23</td>\n",
       "      <td>0</td>\n",
       "      <td>2020-12-31 23:00:00</td>\n",
       "    </tr>\n",
       "    <tr>\n",
       "      <th>261794</th>\n",
       "      <td>Mischief</td>\n",
       "      <td>2020</td>\n",
       "      <td>12</td>\n",
       "      <td>31</td>\n",
       "      <td>23</td>\n",
       "      <td>55</td>\n",
       "      <td>2020-12-31 23:55:00</td>\n",
       "    </tr>\n",
       "  </tbody>\n",
       "</table>\n",
       "<p>782869 rows × 7 columns</p>\n",
       "</div>"
      ],
      "text/plain": [
       "                                     TYPE  YEAR  MONTH  DAY  HOUR  MINUTE  \\\n",
       "380033           Offence Against a Person  2003      1    1     0       0   \n",
       "237038  Break and Enter Residential/Other  2003      1    1     0       0   \n",
       "504270                        Other Theft  2003      1    1     0       0   \n",
       "368861           Offence Against a Person  2003      1    1     0       0   \n",
       "38136                    Theft of Bicycle  2003      1    1     0       0   \n",
       "...                                   ...   ...    ...  ...   ...     ...   \n",
       "39236                    Theft of Bicycle  2020     12   31    22       0   \n",
       "212466  Break and Enter Residential/Other  2020     12   31    22      30   \n",
       "281035                           Mischief  2020     12   31    22      46   \n",
       "716545                 Theft from Vehicle  2020     12   31    23       0   \n",
       "261794                           Mischief  2020     12   31    23      55   \n",
       "\n",
       "                  DATETIME  \n",
       "380033 2003-01-01 00:00:00  \n",
       "237038 2003-01-01 00:00:00  \n",
       "504270 2003-01-01 00:00:00  \n",
       "368861 2003-01-01 00:00:00  \n",
       "38136  2003-01-01 00:00:00  \n",
       "...                    ...  \n",
       "39236  2020-12-31 22:00:00  \n",
       "212466 2020-12-31 22:30:00  \n",
       "281035 2020-12-31 22:46:00  \n",
       "716545 2020-12-31 23:00:00  \n",
       "261794 2020-12-31 23:55:00  \n",
       "\n",
       "[782869 rows x 7 columns]"
      ]
     },
     "metadata": {},
     "output_type": "display_data"
    }
   ],
   "source": [
    "#Delete row with year 2021 and sort by datetime\n",
    "df_cleaned = df_cleaned.drop(df_cleaned[df_cleaned.YEAR == 2021].index).sort_values(by = ['DATETIME'])\n",
    "\n",
    "#Display dataset\n",
    "display(df_cleaned)"
   ]
  },
  {
   "cell_type": "markdown",
   "id": "ca531fb0",
   "metadata": {},
   "source": [
    "The last step consists of removing rows with null values, however, it is previously known that there are no existing null values in the dataset, hence no further data altering would be required."
   ]
  },
  {
   "cell_type": "markdown",
   "id": "3c5631e2",
   "metadata": {},
   "source": [
    "This concludes the dataset cleaning stage and the final table can be written into a file which would be placed in the processed dataset folder."
   ]
  },
  {
   "cell_type": "code",
   "execution_count": 93,
   "id": "94fd9145",
   "metadata": {},
   "outputs": [],
   "source": [
    "#Write dataset locally to CSV file\n",
    "df_cleaned.to_csv('../data/processed/crimedata_datetime.csv')"
   ]
  },
  {
   "cell_type": "markdown",
   "id": "da565b19",
   "metadata": {},
   "source": [
    "### 3. Variable Analysis\n",
    "\n",
    "The variable analysis would be done on a surface level for now but would be delved into deeper further in this document. Visualization techniques will be used throughout this section in order to aid the analysis of the varaibles."
   ]
  },
  {
   "cell_type": "code",
   "execution_count": 94,
   "id": "f6537927",
   "metadata": {},
   "outputs": [
    {
     "data": {
      "text/plain": [
       "<AxesSubplot: >"
      ]
     },
     "execution_count": 94,
     "metadata": {},
     "output_type": "execute_result"
    },
    {
     "data": {
      "image/png": "[encoded data removed]",
      "text/plain": [
       "<Figure size 640x480 with 2 Axes>"
      ]
     },
     "metadata": {},
     "output_type": "display_data"
    }
   ],
   "source": [
    "#Create correlation matrix\n",
    "corr_matrix = df_cleaned.corr()\n",
    "sns.heatmap(corr_matrix, xticklabels = corr_matrix.columns, yticklabels = corr_matrix.columns, annot = True, cmap = sns.diverging_palette(220, 20, as_cmap = True))"
   ]
  },
  {
   "cell_type": "markdown",
   "id": "5b7a4b48",
   "metadata": {},
   "source": [
    "A correlation matrix is useful for picking out any relationship between each variables. The numbers in each box of the graph show the correlation coefficients, which are the numerical representation of how close the two variables are related to each other. The numbers range from 0 up to 1, where 0 signifies no relationship and 1 represents that they are fully dependent on each other. These values can also become negative if there is a negative correlation between them, meaning that an increase of a variable leads to a decrease of the other. The results show that there are barely any correlation between each variable, with a mere maximum coefficient value of 0.11. This means that each column of the dataset do not rely on each other and would be more effective to analyze each variable separately."
   ]
  },
  {
   "cell_type": "code",
   "execution_count": 95,
   "id": "23c6be0d",
   "metadata": {},
   "outputs": [
    {
     "data": {
      "text/plain": [
       "[Text(0.5, 1.0, 'Number of criminal cases by Year'),\n",
       " Text(0.5, 0, 'Crime Rate'),\n",
       " Text(0, 0.5, 'Year')]"
      ]
     },
     "execution_count": 95,
     "metadata": {},
     "output_type": "execute_result"
    },
    {
     "data": {
      "image/png": "[encoded data removed]",
      "text/plain": [
       "<Figure size 640x480 with 1 Axes>"
      ]
     },
     "metadata": {},
     "output_type": "display_data"
    }
   ],
   "source": [
    "#Create countplot\n",
    "sns.countplot(y = df_cleaned['YEAR']).set(title = \"Number of criminal cases by Year\", xlabel = \"Crime Rate\", ylabel = \"Year\")"
   ]
  },
  {
   "cell_type": "markdown",
   "id": "35c225e0",
   "metadata": {},
   "source": [
    "Each variable will be plotted using a countplot for the analysis. From the result above, there seem to be a parabolic relationship between the crime rates throughout the years with a few exceptions. 2003 started with the largest crime rate frequency, slowly decreasing until the turning point of 2011, where it began to increase up until 2019. The crime rate in 2020 dropped by a fair amount. From intuition, it is likely that historical events play a role in affecting the crime rates throughout the years and will be further researched into for the main analysis."
   ]
  },
  {
   "cell_type": "code",
   "execution_count": 96,
   "id": "833f2539",
   "metadata": {},
   "outputs": [
    {
     "data": {
      "text/plain": [
       "[Text(0.5, 1.0, 'Number of criminal cases by Month'),\n",
       " Text(0.5, 0, 'Crime Rate'),\n",
       " Text(0, 0.5, 'Month')]"
      ]
     },
     "execution_count": 96,
     "metadata": {},
     "output_type": "execute_result"
    },
    {
     "data": {
      "image/png": "[encoded data removed]",
      "text/plain": [
       "<Figure size 640x480 with 1 Axes>"
      ]
     },
     "metadata": {},
     "output_type": "display_data"
    }
   ],
   "source": [
    "#Create countplot\n",
    "sns.countplot(y = df_cleaned['MONTH']).set(title = \"Number of criminal cases by Month\", xlabel = \"Crime Rate\", ylabel = \"Month\")"
   ]
  },
  {
   "cell_type": "markdown",
   "id": "48b12ded",
   "metadata": {},
   "source": [
    "The countplot of the relationship between the crime rates and the months shows a fairly linear graph. Not much can be deduced from this other than that the crime rates are equally split between the months in each year."
   ]
  },
  {
   "cell_type": "code",
   "execution_count": 97,
   "id": "a04218c0",
   "metadata": {},
   "outputs": [
    {
     "data": {
      "text/plain": [
       "[Text(0.5, 1.0, 'Number of criminal cases by Day'),\n",
       " Text(0.5, 0, 'Crime Rate'),\n",
       " Text(0, 0.5, 'Day')]"
      ]
     },
     "execution_count": 97,
     "metadata": {},
     "output_type": "execute_result"
    },
    {
     "data": {
      "image/png": "[encoded data removed]",
      "text/plain": [
       "<Figure size 640x480 with 1 Axes>"
      ]
     },
     "metadata": {},
     "output_type": "display_data"
    }
   ],
   "source": [
    "#Create countplot\n",
    "sns.countplot(y = df_cleaned['DAY']).set(title = \"Number of criminal cases by Day\", xlabel = \"Crime Rate\", ylabel = \"Day\")"
   ]
  },
  {
   "cell_type": "markdown",
   "id": "d96c34af",
   "metadata": {},
   "source": [
    "From the result of this countplot, it is shown that the most occurence day of crime is on the 1st, followed by the 15th. At the beginning of each month and exactly midway through the months are when crimes happen the most, with a steady rate in between this duration, and a slight decrease after the 15th. The 31st has significantly less crime rates likely due to the fact that this day exists only in half of the months in each year."
   ]
  },
  {
   "cell_type": "code",
   "execution_count": 98,
   "id": "d3a5c430",
   "metadata": {},
   "outputs": [
    {
     "data": {
      "text/plain": [
       "[Text(0.5, 1.0, 'Number of criminal cases by Hour'),\n",
       " Text(0.5, 0, 'Crime Rate'),\n",
       " Text(0, 0.5, 'Hour')]"
      ]
     },
     "execution_count": 98,
     "metadata": {},
     "output_type": "execute_result"
    },
    {
     "data": {
      "image/png": "[encoded data removed]",
      "text/plain": [
       "<Figure size 640x480 with 1 Axes>"
      ]
     },
     "metadata": {},
     "output_type": "display_data"
    }
   ],
   "source": [
    "#Create countplot\n",
    "sns.countplot(y = df_cleaned['HOUR']).set(title = \"Number of criminal cases by Hour\", xlabel = \"Crime Rate\", ylabel = \"Hour\")"
   ]
  },
  {
   "cell_type": "markdown",
   "id": "56b0d53b",
   "metadata": {},
   "source": [
    "Criminal cases occur the most frequent at midnight and leads other hours by a large amount. At 6 p.m. is the next frequent hour. There is a trend of criminal cases happening more often during late evening and especially during midnight, however, drops significantly during the early morning."
   ]
  },
  {
   "cell_type": "code",
   "execution_count": 99,
   "id": "3cb0598b",
   "metadata": {},
   "outputs": [
    {
     "data": {
      "text/plain": [
       "[Text(0.5, 1.0, 'Number of criminal cases by Minute'),\n",
       " Text(0.5, 0, 'Crime Rate'),\n",
       " Text(0, 0.5, 'Minute')]"
      ]
     },
     "execution_count": 99,
     "metadata": {},
     "output_type": "execute_result"
    },
    {
     "data": {
      "image/png": "[encoded data removed]",
      "text/plain": [
       "<Figure size 640x480 with 1 Axes>"
      ]
     },
     "metadata": {},
     "output_type": "display_data"
    }
   ],
   "source": [
    "#Create countplot\n",
    "sns.countplot(y = df_cleaned['MINUTE']).set(title = \"Number of criminal cases by Minute\", xlabel = \"Crime Rate\", ylabel = \"Minute\")"
   ]
  },
  {
   "cell_type": "markdown",
   "id": "6f28c23b",
   "metadata": {},
   "source": [
    "The occurence of criminal cases happen the most frequently on the 0th minute followed by the 30th by a far margin. The frequency for the other minutes are very little in comparison. It is likely that most cases have the minutes rounded to the nearest hour or half-hour."
   ]
  }
 ],
 "metadata": {
  "kernelspec": {
   "display_name": "Python 3 (ipykernel)",
   "language": "python",
   "name": "python3"
  },
  "language_info": {
   "codemirror_mode": {
    "name": "ipython",
    "version": 3
   },
   "file_extension": ".py",
   "mimetype": "text/x-python",
   "name": "python",
   "nbconvert_exporter": "python",
   "pygments_lexer": "ipython3",
   "version": "3.9.13"
  }
 },
 "nbformat": 4,
 "nbformat_minor": 5
}
